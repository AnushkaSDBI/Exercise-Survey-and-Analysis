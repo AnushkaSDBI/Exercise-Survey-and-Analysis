{
 "cells": [
  {
   "cell_type": "code",
   "execution_count": null,
   "metadata": {
    "colab": {
     "base_uri": "https://localhost:8080/"
    },
    "id": "i4AdEg1TV9ON",
    "outputId": "245da944-4343-452e-8c7c-3543489b40e6"
   },
   "outputs": [
    {
     "name": "stdout",
     "output_type": "stream",
     "text": [
      "Collecting researchpy\n",
      "  Downloading https://files.pythonhosted.org/packages/4b/a3/b16ea25a5416f7c35824b2fc3ee1cdc9f9d8ab6d9fc4119679504d43b8a8/researchpy-0.2.3-py3-none-any.whl\n",
      "Requirement already satisfied: pandas in /usr/local/lib/python3.7/dist-packages (from researchpy) (1.1.5)\n",
      "Requirement already satisfied: numpy in /usr/local/lib/python3.7/dist-packages (from researchpy) (1.19.5)\n",
      "Requirement already satisfied: scipy in /usr/local/lib/python3.7/dist-packages (from researchpy) (1.4.1)\n",
      "Requirement already satisfied: statsmodels in /usr/local/lib/python3.7/dist-packages (from researchpy) (0.10.2)\n",
      "Requirement already satisfied: pytz>=2017.2 in /usr/local/lib/python3.7/dist-packages (from pandas->researchpy) (2018.9)\n",
      "Requirement already satisfied: python-dateutil>=2.7.3 in /usr/local/lib/python3.7/dist-packages (from pandas->researchpy) (2.8.1)\n",
      "Requirement already satisfied: patsy>=0.4.0 in /usr/local/lib/python3.7/dist-packages (from statsmodels->researchpy) (0.5.1)\n",
      "Requirement already satisfied: six>=1.5 in /usr/local/lib/python3.7/dist-packages (from python-dateutil>=2.7.3->pandas->researchpy) (1.15.0)\n",
      "Installing collected packages: researchpy\n",
      "Successfully installed researchpy-0.2.3\n",
      "Collecting pingouin\n",
      "\u001b[?25l  Downloading https://files.pythonhosted.org/packages/5c/40/7736d4fcb8dbb6758a1e9ca51754e60ff4efe5d7c9b5bb6166cff538513d/pingouin-0.3.11.tar.gz (204kB)\n",
      "\u001b[K     |████████████████████████████████| 204kB 14.9MB/s \n",
      "\u001b[?25hRequirement already satisfied: numpy>=1.15 in /usr/local/lib/python3.7/dist-packages (from pingouin) (1.19.5)\n",
      "Requirement already satisfied: scipy>=1.3 in /usr/local/lib/python3.7/dist-packages (from pingouin) (1.4.1)\n",
      "Requirement already satisfied: pandas>=0.24 in /usr/local/lib/python3.7/dist-packages (from pingouin) (1.1.5)\n",
      "Requirement already satisfied: matplotlib>=3.0.2 in /usr/local/lib/python3.7/dist-packages (from pingouin) (3.2.2)\n",
      "Requirement already satisfied: seaborn>=0.9.0 in /usr/local/lib/python3.7/dist-packages (from pingouin) (0.11.1)\n",
      "Requirement already satisfied: statsmodels>=0.10.0 in /usr/local/lib/python3.7/dist-packages (from pingouin) (0.10.2)\n",
      "Requirement already satisfied: scikit-learn in /usr/local/lib/python3.7/dist-packages (from pingouin) (0.22.2.post1)\n",
      "Collecting pandas_flavor>=0.1.2\n",
      "  Downloading https://files.pythonhosted.org/packages/9a/57/7fbcff4c0961ed190ac5fcb0bd8194152ee1ee6487edf64fdbae16e2bc4b/pandas_flavor-0.2.0-py2.py3-none-any.whl\n",
      "Collecting outdated\n",
      "  Downloading https://files.pythonhosted.org/packages/fd/f6/95588d496e518355c33b389222c99069b1c6f2c046be64f400072fdc7cda/outdated-0.2.1-py3-none-any.whl\n",
      "Requirement already satisfied: tabulate in /usr/local/lib/python3.7/dist-packages (from pingouin) (0.8.9)\n",
      "Requirement already satisfied: pytz>=2017.2 in /usr/local/lib/python3.7/dist-packages (from pandas>=0.24->pingouin) (2018.9)\n",
      "Requirement already satisfied: python-dateutil>=2.7.3 in /usr/local/lib/python3.7/dist-packages (from pandas>=0.24->pingouin) (2.8.1)\n",
      "Requirement already satisfied: pyparsing!=2.0.4,!=2.1.2,!=2.1.6,>=2.0.1 in /usr/local/lib/python3.7/dist-packages (from matplotlib>=3.0.2->pingouin) (2.4.7)\n",
      "Requirement already satisfied: kiwisolver>=1.0.1 in /usr/local/lib/python3.7/dist-packages (from matplotlib>=3.0.2->pingouin) (1.3.1)\n",
      "Requirement already satisfied: cycler>=0.10 in /usr/local/lib/python3.7/dist-packages (from matplotlib>=3.0.2->pingouin) (0.10.0)\n",
      "Requirement already satisfied: patsy>=0.4.0 in /usr/local/lib/python3.7/dist-packages (from statsmodels>=0.10.0->pingouin) (0.5.1)\n",
      "Requirement already satisfied: joblib>=0.11 in /usr/local/lib/python3.7/dist-packages (from scikit-learn->pingouin) (1.0.1)\n",
      "Requirement already satisfied: xarray in /usr/local/lib/python3.7/dist-packages (from pandas_flavor>=0.1.2->pingouin) (0.15.1)\n",
      "Collecting littleutils\n",
      "  Downloading https://files.pythonhosted.org/packages/4e/b1/bb4e06f010947d67349f863b6a2ad71577f85590180a935f60543f622652/littleutils-0.2.2.tar.gz\n",
      "Requirement already satisfied: requests in /usr/local/lib/python3.7/dist-packages (from outdated->pingouin) (2.23.0)\n",
      "Requirement already satisfied: six>=1.5 in /usr/local/lib/python3.7/dist-packages (from python-dateutil>=2.7.3->pandas>=0.24->pingouin) (1.15.0)\n",
      "Requirement already satisfied: setuptools>=41.2 in /usr/local/lib/python3.7/dist-packages (from xarray->pandas_flavor>=0.1.2->pingouin) (56.1.0)\n",
      "Requirement already satisfied: idna<3,>=2.5 in /usr/local/lib/python3.7/dist-packages (from requests->outdated->pingouin) (2.10)\n",
      "Requirement already satisfied: urllib3!=1.25.0,!=1.25.1,<1.26,>=1.21.1 in /usr/local/lib/python3.7/dist-packages (from requests->outdated->pingouin) (1.24.3)\n",
      "Requirement already satisfied: chardet<4,>=3.0.2 in /usr/local/lib/python3.7/dist-packages (from requests->outdated->pingouin) (3.0.4)\n",
      "Requirement already satisfied: certifi>=2017.4.17 in /usr/local/lib/python3.7/dist-packages (from requests->outdated->pingouin) (2020.12.5)\n",
      "Building wheels for collected packages: pingouin, littleutils\n",
      "  Building wheel for pingouin (setup.py) ... \u001b[?25l\u001b[?25hdone\n",
      "  Created wheel for pingouin: filename=pingouin-0.3.11-cp37-none-any.whl size=203325 sha256=55260ba0161e93333c8238d9214a5699ee50cd46ce597e5df1787a9583d0d4b4\n",
      "  Stored in directory: /root/.cache/pip/wheels/79/46/ef/e377eb45c86f278f660d31c4a30e3f733063d28c89462f1aea\n",
      "  Building wheel for littleutils (setup.py) ... \u001b[?25l\u001b[?25hdone\n",
      "  Created wheel for littleutils: filename=littleutils-0.2.2-cp37-none-any.whl size=7051 sha256=2c0aa2a131719f91c376b7c30f83b8abcfa344a77fb7bfe7869fdbb05ccd9b35\n",
      "  Stored in directory: /root/.cache/pip/wheels/53/16/9f/ac67d15c40243754fd73f620e1b9b6dedc20492ecc19a2bae1\n",
      "Successfully built pingouin littleutils\n",
      "Installing collected packages: pandas-flavor, littleutils, outdated, pingouin\n",
      "Successfully installed littleutils-0.2.2 outdated-0.2.1 pandas-flavor-0.2.0 pingouin-0.3.11\n"
     ]
    }
   ],
   "source": [
    "!pip install researchpy\n",
    "!pip install pingouin"
   ]
  },
  {
   "cell_type": "code",
   "execution_count": null,
   "metadata": {
    "colab": {
     "base_uri": "https://localhost:8080/"
    },
    "id": "gkUVrpBJVcp6",
    "outputId": "e00dc836-05ec-49fd-802d-30f027de49ef"
   },
   "outputs": [
    {
     "name": "stderr",
     "output_type": "stream",
     "text": [
      "/usr/local/lib/python3.7/dist-packages/statsmodels/tools/_testing.py:19: FutureWarning: pandas.util.testing is deprecated. Use the functions in the public API at pandas.testing instead.\n",
      "  import pandas.util.testing as tm\n"
     ]
    }
   ],
   "source": [
    "import pandas as pd\n",
    "import numpy as np\n",
    "from scipy.stats  import chi2_contingency\n",
    "import researchpy as rp\n",
    "from scipy import stats\n",
    "import math\n",
    "from sklearn.metrics import mean_squared_error,r2_score,mean_absolute_error\n",
    "import pingouin as pg\n",
    "import scipy.stats as stats\n",
    "import statsmodels.stats.multicomp as mc\n",
    "from sklearn.model_selection import train_test_split\n",
    "import seaborn as sns\n",
    "import statsmodels.formula.api as smf\n",
    "import statsmodels.api as sm"
   ]
  },
  {
   "cell_type": "markdown",
   "metadata": {
    "id": "fXacd2Wh6TWl"
   },
   "source": [
    "# DATA PREPARATION"
   ]
  },
  {
   "cell_type": "code",
   "execution_count": null,
   "metadata": {
    "colab": {
     "base_uri": "https://localhost:8080/",
     "height": 556
    },
    "id": "prqZG0YMVshh",
    "outputId": "59a9e21f-53cb-4671-e0c4-08456cc4da18"
   },
   "outputs": [
    {
     "data": {
      "text/html": [
       "<div>\n",
       "<style scoped>\n",
       "    .dataframe tbody tr th:only-of-type {\n",
       "        vertical-align: middle;\n",
       "    }\n",
       "\n",
       "    .dataframe tbody tr th {\n",
       "        vertical-align: top;\n",
       "    }\n",
       "\n",
       "    .dataframe thead th {\n",
       "        text-align: right;\n",
       "    }\n",
       "</style>\n",
       "<table border=\"1\" class=\"dataframe\">\n",
       "  <thead>\n",
       "    <tr style=\"text-align: right;\">\n",
       "      <th></th>\n",
       "      <th>Name</th>\n",
       "      <th>Gender</th>\n",
       "      <th>Age</th>\n",
       "      <th>Employment_status</th>\n",
       "      <th>Weight</th>\n",
       "      <th>Height</th>\n",
       "      <th>Health_issues</th>\n",
       "      <th>Frequency_of_exercise</th>\n",
       "      <th>Time_spent_on_exercise</th>\n",
       "      <th>Preferences_of_exercising</th>\n",
       "      <th>What_do_you_most_often_do_for_exercise?</th>\n",
       "      <th>Pattern_of_exercising</th>\n",
       "      <th>Hurdles_for_exercising</th>\n",
       "      <th>Expenditure_before</th>\n",
       "      <th>Expenditure_after</th>\n",
       "      <th>Opinion_on_exercise_time</th>\n",
       "      <th>Exercise_plans_during_lockdown</th>\n",
       "      <th>Average_calories_burnt_in_last_month</th>\n",
       "      <th>Intentions_after_lockdown</th>\n",
       "      <th>Frequency_of_breathing_exercise</th>\n",
       "      <th>Key_goal</th>\n",
       "      <th>Level_of_fitness</th>\n",
       "      <th>BMI</th>\n",
       "      <th>Category</th>\n",
       "    </tr>\n",
       "  </thead>\n",
       "  <tbody>\n",
       "    <tr>\n",
       "      <th>0</th>\n",
       "      <td>Viraj</td>\n",
       "      <td>Male</td>\n",
       "      <td>20</td>\n",
       "      <td>Unemployed</td>\n",
       "      <td>50</td>\n",
       "      <td>170</td>\n",
       "      <td>No</td>\n",
       "      <td>Rarely</td>\n",
       "      <td>45</td>\n",
       "      <td>Independent workout</td>\n",
       "      <td>Play team sports</td>\n",
       "      <td>Exercising in group</td>\n",
       "      <td>Academic pressure</td>\n",
       "      <td>0</td>\n",
       "      <td>0</td>\n",
       "      <td>Yes</td>\n",
       "      <td>Yes</td>\n",
       "      <td>2729</td>\n",
       "      <td>Increase physical activity</td>\n",
       "      <td>1 day</td>\n",
       "      <td>Increasing energy</td>\n",
       "      <td>7</td>\n",
       "      <td>17.301038</td>\n",
       "      <td>Underweight</td>\n",
       "    </tr>\n",
       "    <tr>\n",
       "      <th>1</th>\n",
       "      <td>Prashant</td>\n",
       "      <td>Male</td>\n",
       "      <td>48</td>\n",
       "      <td>Self Employed</td>\n",
       "      <td>72</td>\n",
       "      <td>168</td>\n",
       "      <td>No</td>\n",
       "      <td>Weekly</td>\n",
       "      <td>45</td>\n",
       "      <td>Independent workout</td>\n",
       "      <td>Walk, Play team sports</td>\n",
       "      <td>Exercising in group</td>\n",
       "      <td>Lack of time</td>\n",
       "      <td>0</td>\n",
       "      <td>0</td>\n",
       "      <td>Yes</td>\n",
       "      <td>Yes</td>\n",
       "      <td>2971</td>\n",
       "      <td>Keeping it same</td>\n",
       "      <td>3 days</td>\n",
       "      <td>Looking fit</td>\n",
       "      <td>9</td>\n",
       "      <td>25.510204</td>\n",
       "      <td>Overweight</td>\n",
       "    </tr>\n",
       "    <tr>\n",
       "      <th>2</th>\n",
       "      <td>Pranali</td>\n",
       "      <td>Female</td>\n",
       "      <td>45</td>\n",
       "      <td>Salaried Employee</td>\n",
       "      <td>68</td>\n",
       "      <td>162</td>\n",
       "      <td>No</td>\n",
       "      <td>I don't</td>\n",
       "      <td>30</td>\n",
       "      <td>Independent workout</td>\n",
       "      <td>Walk</td>\n",
       "      <td>Exercising alone.</td>\n",
       "      <td>Lack of time</td>\n",
       "      <td>500</td>\n",
       "      <td>300</td>\n",
       "      <td>Yes</td>\n",
       "      <td>No</td>\n",
       "      <td>1465</td>\n",
       "      <td>Increase physical activity</td>\n",
       "      <td>Never</td>\n",
       "      <td>Increasing muscular strength</td>\n",
       "      <td>8</td>\n",
       "      <td>25.910684</td>\n",
       "      <td>Overweight</td>\n",
       "    </tr>\n",
       "    <tr>\n",
       "      <th>3</th>\n",
       "      <td>Shashikant</td>\n",
       "      <td>Male</td>\n",
       "      <td>70</td>\n",
       "      <td>Self Employed</td>\n",
       "      <td>75</td>\n",
       "      <td>162</td>\n",
       "      <td>Yes</td>\n",
       "      <td>Rarely</td>\n",
       "      <td>30</td>\n",
       "      <td>Independent workout</td>\n",
       "      <td>Walk</td>\n",
       "      <td>Exercising alone.</td>\n",
       "      <td>Lack of time</td>\n",
       "      <td>0</td>\n",
       "      <td>0</td>\n",
       "      <td>Yes</td>\n",
       "      <td>No</td>\n",
       "      <td>1744</td>\n",
       "      <td>Increase physical activity</td>\n",
       "      <td>1 day</td>\n",
       "      <td>Looking fit</td>\n",
       "      <td>9</td>\n",
       "      <td>28.577961</td>\n",
       "      <td>Overweight</td>\n",
       "    </tr>\n",
       "    <tr>\n",
       "      <th>4</th>\n",
       "      <td>Yogesh</td>\n",
       "      <td>Male</td>\n",
       "      <td>21</td>\n",
       "      <td>Unemployed</td>\n",
       "      <td>54</td>\n",
       "      <td>171</td>\n",
       "      <td>No</td>\n",
       "      <td>Weekly</td>\n",
       "      <td>60</td>\n",
       "      <td>Independent workout</td>\n",
       "      <td>Lift Weight, Walk, Aerobics, Play team sports,...</td>\n",
       "      <td>Exercising in group</td>\n",
       "      <td>Academic pressure</td>\n",
       "      <td>2000</td>\n",
       "      <td>1500</td>\n",
       "      <td>Yes</td>\n",
       "      <td>Yes</td>\n",
       "      <td>4702</td>\n",
       "      <td>Keeping it same</td>\n",
       "      <td>3 days</td>\n",
       "      <td>Increasing energy</td>\n",
       "      <td>7</td>\n",
       "      <td>18.467221</td>\n",
       "      <td>Underweight</td>\n",
       "    </tr>\n",
       "    <tr>\n",
       "      <th>...</th>\n",
       "      <td>...</td>\n",
       "      <td>...</td>\n",
       "      <td>...</td>\n",
       "      <td>...</td>\n",
       "      <td>...</td>\n",
       "      <td>...</td>\n",
       "      <td>...</td>\n",
       "      <td>...</td>\n",
       "      <td>...</td>\n",
       "      <td>...</td>\n",
       "      <td>...</td>\n",
       "      <td>...</td>\n",
       "      <td>...</td>\n",
       "      <td>...</td>\n",
       "      <td>...</td>\n",
       "      <td>...</td>\n",
       "      <td>...</td>\n",
       "      <td>...</td>\n",
       "      <td>...</td>\n",
       "      <td>...</td>\n",
       "      <td>...</td>\n",
       "      <td>...</td>\n",
       "      <td>...</td>\n",
       "      <td>...</td>\n",
       "    </tr>\n",
       "    <tr>\n",
       "      <th>145</th>\n",
       "      <td>Khushbu</td>\n",
       "      <td>Female</td>\n",
       "      <td>31</td>\n",
       "      <td>Salaried Employee</td>\n",
       "      <td>73</td>\n",
       "      <td>173</td>\n",
       "      <td>No</td>\n",
       "      <td>Daily</td>\n",
       "      <td>30</td>\n",
       "      <td>Independent workout</td>\n",
       "      <td>Outdoor sports/Cycling</td>\n",
       "      <td>Exercising with trainer</td>\n",
       "      <td>Health issues/concerns</td>\n",
       "      <td>4500</td>\n",
       "      <td>2500</td>\n",
       "      <td>No</td>\n",
       "      <td>No</td>\n",
       "      <td>1308</td>\n",
       "      <td>Keeping it same</td>\n",
       "      <td>5 days</td>\n",
       "      <td>Looking fit</td>\n",
       "      <td>9</td>\n",
       "      <td>24.391059</td>\n",
       "      <td>Healthy</td>\n",
       "    </tr>\n",
       "    <tr>\n",
       "      <th>146</th>\n",
       "      <td>Palak</td>\n",
       "      <td>Female</td>\n",
       "      <td>22</td>\n",
       "      <td>Salaried Employee</td>\n",
       "      <td>65</td>\n",
       "      <td>161</td>\n",
       "      <td>No</td>\n",
       "      <td>Rarely</td>\n",
       "      <td>90</td>\n",
       "      <td>Classes</td>\n",
       "      <td>Aerobics/ Yoga Classes</td>\n",
       "      <td>Exercising in group</td>\n",
       "      <td>Lack of time</td>\n",
       "      <td>3000</td>\n",
       "      <td>2500</td>\n",
       "      <td>Yes</td>\n",
       "      <td>Yes</td>\n",
       "      <td>5561</td>\n",
       "      <td>Increase physical activity</td>\n",
       "      <td>1 day</td>\n",
       "      <td>Increasing muscular strength</td>\n",
       "      <td>8</td>\n",
       "      <td>25.076193</td>\n",
       "      <td>Overweight</td>\n",
       "    </tr>\n",
       "    <tr>\n",
       "      <th>147</th>\n",
       "      <td>Manish</td>\n",
       "      <td>Male</td>\n",
       "      <td>15</td>\n",
       "      <td>Unemployed</td>\n",
       "      <td>42</td>\n",
       "      <td>158</td>\n",
       "      <td>No</td>\n",
       "      <td>Weekly</td>\n",
       "      <td>45</td>\n",
       "      <td>Independent workout</td>\n",
       "      <td>Gym Workout</td>\n",
       "      <td>Exercising with trainer</td>\n",
       "      <td>Academic pressure</td>\n",
       "      <td>2400</td>\n",
       "      <td>1200</td>\n",
       "      <td>Maybe</td>\n",
       "      <td>No</td>\n",
       "      <td>2917</td>\n",
       "      <td>Keeping it same</td>\n",
       "      <td>3 days</td>\n",
       "      <td>Increasing energy</td>\n",
       "      <td>6</td>\n",
       "      <td>16.824227</td>\n",
       "      <td>Underweight</td>\n",
       "    </tr>\n",
       "    <tr>\n",
       "      <th>148</th>\n",
       "      <td>Vaibhav</td>\n",
       "      <td>Male</td>\n",
       "      <td>28</td>\n",
       "      <td>Salaried Employee</td>\n",
       "      <td>53</td>\n",
       "      <td>164</td>\n",
       "      <td>No</td>\n",
       "      <td>Rarely</td>\n",
       "      <td>60</td>\n",
       "      <td>Independent workout</td>\n",
       "      <td>Walk/Jog</td>\n",
       "      <td>Exercising alone.</td>\n",
       "      <td>Other commitments/responsibilities</td>\n",
       "      <td>2700</td>\n",
       "      <td>1400</td>\n",
       "      <td>No</td>\n",
       "      <td>Yes</td>\n",
       "      <td>4944</td>\n",
       "      <td>Increase physical activity</td>\n",
       "      <td>1 day</td>\n",
       "      <td>Increasing energy</td>\n",
       "      <td>8</td>\n",
       "      <td>19.705532</td>\n",
       "      <td>Healthy</td>\n",
       "    </tr>\n",
       "    <tr>\n",
       "      <th>149</th>\n",
       "      <td>Sharvari</td>\n",
       "      <td>Female</td>\n",
       "      <td>34</td>\n",
       "      <td>Salaried Employee</td>\n",
       "      <td>80</td>\n",
       "      <td>158</td>\n",
       "      <td>Yes</td>\n",
       "      <td>I don't</td>\n",
       "      <td>45</td>\n",
       "      <td>Independent workout</td>\n",
       "      <td>Aerobics/ Yoga Classes</td>\n",
       "      <td>Exercising in group</td>\n",
       "      <td>Lack of time</td>\n",
       "      <td>7000</td>\n",
       "      <td>4000</td>\n",
       "      <td>Yes</td>\n",
       "      <td>No</td>\n",
       "      <td>2994</td>\n",
       "      <td>Increase physical activity</td>\n",
       "      <td>Never</td>\n",
       "      <td>Looking fit</td>\n",
       "      <td>8</td>\n",
       "      <td>32.046146</td>\n",
       "      <td>Obese</td>\n",
       "    </tr>\n",
       "  </tbody>\n",
       "</table>\n",
       "<p>150 rows × 24 columns</p>\n",
       "</div>"
      ],
      "text/plain": [
       "           Name  Gender  Age  ... Level_of_fitness        BMI     Category\n",
       "0         Viraj    Male   20  ...                7  17.301038  Underweight\n",
       "1      Prashant    Male   48  ...                9  25.510204   Overweight\n",
       "2       Pranali  Female   45  ...                8  25.910684   Overweight\n",
       "3    Shashikant    Male   70  ...                9  28.577961   Overweight\n",
       "4        Yogesh    Male   21  ...                7  18.467221  Underweight\n",
       "..          ...     ...  ...  ...              ...        ...          ...\n",
       "145     Khushbu  Female   31  ...                9  24.391059      Healthy\n",
       "146       Palak  Female   22  ...                8  25.076193   Overweight\n",
       "147      Manish    Male   15  ...                6  16.824227  Underweight\n",
       "148     Vaibhav    Male   28  ...                8  19.705532      Healthy\n",
       "149    Sharvari  Female   34  ...                8  32.046146        Obese\n",
       "\n",
       "[150 rows x 24 columns]"
      ]
     },
     "execution_count": 18,
     "metadata": {
      "tags": []
     },
     "output_type": "execute_result"
    }
   ],
   "source": [
    "df=pd.read_excel(r\"Exercise Survey (Responses).xlsx\")\n",
    "df"
   ]
  },
  {
   "cell_type": "code",
   "execution_count": null,
   "metadata": {
    "colab": {
     "base_uri": "https://localhost:8080/",
     "height": 304
    },
    "id": "j3-YQfLxlAKM",
    "outputId": "337ff5c1-b285-4c42-9a22-5874686a7d15"
   },
   "outputs": [
    {
     "data": {
      "text/html": [
       "<div>\n",
       "<style scoped>\n",
       "    .dataframe tbody tr th:only-of-type {\n",
       "        vertical-align: middle;\n",
       "    }\n",
       "\n",
       "    .dataframe tbody tr th {\n",
       "        vertical-align: top;\n",
       "    }\n",
       "\n",
       "    .dataframe thead th {\n",
       "        text-align: right;\n",
       "    }\n",
       "</style>\n",
       "<table border=\"1\" class=\"dataframe\">\n",
       "  <thead>\n",
       "    <tr style=\"text-align: right;\">\n",
       "      <th></th>\n",
       "      <th>Age</th>\n",
       "      <th>Weight</th>\n",
       "      <th>Height</th>\n",
       "      <th>Time_spent_on_exercise</th>\n",
       "      <th>Expenditure_before</th>\n",
       "      <th>Expenditure_after</th>\n",
       "      <th>Average_calories_burnt_in_last_month</th>\n",
       "      <th>Level_of_fitness</th>\n",
       "      <th>BMI</th>\n",
       "    </tr>\n",
       "  </thead>\n",
       "  <tbody>\n",
       "    <tr>\n",
       "      <th>count</th>\n",
       "      <td>150.000000</td>\n",
       "      <td>150.000000</td>\n",
       "      <td>150.000000</td>\n",
       "      <td>150.00000</td>\n",
       "      <td>150.00000</td>\n",
       "      <td>150.000000</td>\n",
       "      <td>150.000000</td>\n",
       "      <td>150.000000</td>\n",
       "      <td>150.000000</td>\n",
       "    </tr>\n",
       "    <tr>\n",
       "      <th>mean</th>\n",
       "      <td>28.980000</td>\n",
       "      <td>63.573333</td>\n",
       "      <td>162.993333</td>\n",
       "      <td>51.10000</td>\n",
       "      <td>3814.00000</td>\n",
       "      <td>2273.666667</td>\n",
       "      <td>3277.806667</td>\n",
       "      <td>7.846667</td>\n",
       "      <td>23.842049</td>\n",
       "    </tr>\n",
       "    <tr>\n",
       "      <th>std</th>\n",
       "      <td>12.387735</td>\n",
       "      <td>16.078810</td>\n",
       "      <td>10.240397</td>\n",
       "      <td>14.75607</td>\n",
       "      <td>2735.96553</td>\n",
       "      <td>1751.659775</td>\n",
       "      <td>1360.807995</td>\n",
       "      <td>1.151227</td>\n",
       "      <td>5.438416</td>\n",
       "    </tr>\n",
       "    <tr>\n",
       "      <th>min</th>\n",
       "      <td>11.000000</td>\n",
       "      <td>30.000000</td>\n",
       "      <td>125.000000</td>\n",
       "      <td>30.00000</td>\n",
       "      <td>0.00000</td>\n",
       "      <td>0.000000</td>\n",
       "      <td>1002.000000</td>\n",
       "      <td>5.000000</td>\n",
       "      <td>14.659928</td>\n",
       "    </tr>\n",
       "    <tr>\n",
       "      <th>25%</th>\n",
       "      <td>19.000000</td>\n",
       "      <td>51.000000</td>\n",
       "      <td>160.000000</td>\n",
       "      <td>45.00000</td>\n",
       "      <td>2000.00000</td>\n",
       "      <td>900.000000</td>\n",
       "      <td>2281.250000</td>\n",
       "      <td>7.000000</td>\n",
       "      <td>19.713143</td>\n",
       "    </tr>\n",
       "    <tr>\n",
       "      <th>50%</th>\n",
       "      <td>26.000000</td>\n",
       "      <td>65.000000</td>\n",
       "      <td>165.000000</td>\n",
       "      <td>45.00000</td>\n",
       "      <td>3000.00000</td>\n",
       "      <td>2000.000000</td>\n",
       "      <td>2882.500000</td>\n",
       "      <td>8.000000</td>\n",
       "      <td>24.157212</td>\n",
       "    </tr>\n",
       "    <tr>\n",
       "      <th>75%</th>\n",
       "      <td>37.000000</td>\n",
       "      <td>76.000000</td>\n",
       "      <td>169.000000</td>\n",
       "      <td>60.00000</td>\n",
       "      <td>5000.00000</td>\n",
       "      <td>3000.000000</td>\n",
       "      <td>4381.250000</td>\n",
       "      <td>9.000000</td>\n",
       "      <td>27.670259</td>\n",
       "    </tr>\n",
       "    <tr>\n",
       "      <th>max</th>\n",
       "      <td>70.000000</td>\n",
       "      <td>120.000000</td>\n",
       "      <td>181.000000</td>\n",
       "      <td>90.00000</td>\n",
       "      <td>15000.00000</td>\n",
       "      <td>8000.000000</td>\n",
       "      <td>6876.000000</td>\n",
       "      <td>10.000000</td>\n",
       "      <td>42.330559</td>\n",
       "    </tr>\n",
       "  </tbody>\n",
       "</table>\n",
       "</div>"
      ],
      "text/plain": [
       "              Age      Weight  ...  Level_of_fitness         BMI\n",
       "count  150.000000  150.000000  ...        150.000000  150.000000\n",
       "mean    28.980000   63.573333  ...          7.846667   23.842049\n",
       "std     12.387735   16.078810  ...          1.151227    5.438416\n",
       "min     11.000000   30.000000  ...          5.000000   14.659928\n",
       "25%     19.000000   51.000000  ...          7.000000   19.713143\n",
       "50%     26.000000   65.000000  ...          8.000000   24.157212\n",
       "75%     37.000000   76.000000  ...          9.000000   27.670259\n",
       "max     70.000000  120.000000  ...         10.000000   42.330559\n",
       "\n",
       "[8 rows x 9 columns]"
      ]
     },
     "execution_count": 52,
     "metadata": {
      "tags": []
     },
     "output_type": "execute_result"
    }
   ],
   "source": [
    "df.describe()"
   ]
  },
  {
   "cell_type": "code",
   "execution_count": 67,
   "metadata": {
    "colab": {
     "base_uri": "https://localhost:8080/"
    },
    "id": "gIAzNYCX6Yxa",
    "outputId": "44b02ec7-ae3e-4ff9-b349-549c4e1c70a6"
   },
   "outputs": [
    {
     "data": {
      "text/plain": [
       "Index(['Name', 'Gender', 'Age', 'Employment_status', 'Weight', 'Height',\n",
       "       'Health_issues', 'Frequency_of_exercise', 'Time_spent_on_exercise',\n",
       "       'Preferences_of_exercising', 'What_do_you_most_often_do_for_exercise?',\n",
       "       'Pattern_of_exercising', 'Hurdles_for_exercising', 'Expenditure_before',\n",
       "       'Expenditure_after', 'Opinion_on_exercise_time',\n",
       "       'Exercise_plans_during_lockdown',\n",
       "       'Average_calories_burnt_in_last_month', 'Intentions_after_lockdown',\n",
       "       'Frequency_of_breathing_exercise', 'Key_goal', 'Level_of_fitness',\n",
       "       'BMI', 'Category'],\n",
       "      dtype='object')"
      ]
     },
     "execution_count": 67,
     "metadata": {
      "tags": []
     },
     "output_type": "execute_result"
    }
   ],
   "source": [
    "df.columns"
   ]
  },
  {
   "cell_type": "code",
   "execution_count": null,
   "metadata": {
    "id": "1WBcUBUx6c7A"
   },
   "outputs": [],
   "source": [
    "df.info()"
   ]
  },
  {
   "cell_type": "code",
   "execution_count": 69,
   "metadata": {
    "colab": {
     "base_uri": "https://localhost:8080/"
    },
    "id": "q0FhczBb6tNb",
    "outputId": "d9636dd8-37f5-410e-94b5-6eb734f9889a"
   },
   "outputs": [
    {
     "data": {
      "text/plain": [
       "Name                                       0\n",
       "Gender                                     0\n",
       "Age                                        0\n",
       "Employment_status                          0\n",
       "Weight                                     0\n",
       "Height                                     0\n",
       "Health_issues                              0\n",
       "Frequency_of_exercise                      0\n",
       "Time_spent_on_exercise                     0\n",
       "Preferences_of_exercising                  0\n",
       "What_do_you_most_often_do_for_exercise?    0\n",
       "Pattern_of_exercising                      0\n",
       "Hurdles_for_exercising                     0\n",
       "Expenditure_before                         0\n",
       "Expenditure_after                          0\n",
       "Opinion_on_exercise_time                   0\n",
       "Exercise_plans_during_lockdown             0\n",
       "Average_calories_burnt_in_last_month       0\n",
       "Intentions_after_lockdown                  0\n",
       "Frequency_of_breathing_exercise            0\n",
       "Key_goal                                   0\n",
       "Level_of_fitness                           0\n",
       "BMI                                        0\n",
       "Category                                   0\n",
       "dtype: int64"
      ]
     },
     "execution_count": 69,
     "metadata": {
      "tags": []
     },
     "output_type": "execute_result"
    }
   ],
   "source": [
    "df.isnull().sum()"
   ]
  },
  {
   "cell_type": "code",
   "execution_count": null,
   "metadata": {
    "id": "HHoN2ONccOA6"
   },
   "outputs": [],
   "source": [
    "Male= df[df['Gender']== 'Male']\n",
    "Female=df[df['Gender']== 'Female']"
   ]
  },
  {
   "cell_type": "code",
   "execution_count": null,
   "metadata": {
    "id": "ElaJgBnScRpm"
   },
   "outputs": [],
   "source": [
    "Unemployed= df[df['Employment_status']== 'Unemployed']\n",
    "Self_employed= df[df['Employment_status']== 'Self Employed']\n",
    "Salaried_employee= df[df['Employment_status']== 'Salaried Employee']"
   ]
  },
  {
   "cell_type": "code",
   "execution_count": 76,
   "metadata": {
    "id": "EvilrJ3u-1m0"
   },
   "outputs": [],
   "source": [
    "Men = Salaried_employee[(Salaried_employee['Gender'] == 'Male')]\n",
    "Men.reset_index(inplace= True)\n",
    "\n",
    "Women = Salaried_employee[(Salaried_employee['Gender'] == 'Female')]\n",
    "Women.reset_index(inplace= True)"
   ]
  },
  {
   "cell_type": "markdown",
   "metadata": {
    "id": "oKiSh8lOdDIf"
   },
   "source": [
    "#  CHI-SQUARE TEST\n"
   ]
  },
  {
   "cell_type": "markdown",
   "metadata": {
    "id": "3DrnxgKan9lJ"
   },
   "source": [
    "# 1.CHI-SQAURE TEST OF INDEENDENCE/ ASSOCIATION"
   ]
  },
  {
   "cell_type": "markdown",
   "metadata": {
    "id": "wu2P-4_PjXSO"
   },
   "source": [
    "#1"
   ]
  },
  {
   "cell_type": "markdown",
   "metadata": {
    "id": "W1k0RVrgeL09"
   },
   "source": [
    "### Hypothesis\n",
    "* H0:- There is no significant difference between BMI category of salaried people and their frequency of exercise ( independent )\n",
    "\n",
    "* H1:- There is significant difference between BMI category of salaried people and their frequency of exercise ( dependent )"
   ]
  },
  {
   "cell_type": "code",
   "execution_count": null,
   "metadata": {
    "colab": {
     "base_uri": "https://localhost:8080/",
     "height": 254
    },
    "id": "4NRRiQsSecN3",
    "outputId": "c580973b-ddca-4a26-9b46-6ee8585d5c5e"
   },
   "outputs": [
    {
     "data": {
      "text/html": [
       "<div>\n",
       "<style scoped>\n",
       "    .dataframe tbody tr th:only-of-type {\n",
       "        vertical-align: middle;\n",
       "    }\n",
       "\n",
       "    .dataframe tbody tr th {\n",
       "        vertical-align: top;\n",
       "    }\n",
       "\n",
       "    .dataframe thead tr th {\n",
       "        text-align: left;\n",
       "    }\n",
       "\n",
       "    .dataframe thead tr:last-of-type th {\n",
       "        text-align: right;\n",
       "    }\n",
       "</style>\n",
       "<table border=\"1\" class=\"dataframe\">\n",
       "  <thead>\n",
       "    <tr>\n",
       "      <th></th>\n",
       "      <th colspan=\"5\" halign=\"left\">Frequency_of_exercise</th>\n",
       "    </tr>\n",
       "    <tr>\n",
       "      <th>Frequency_of_exercise</th>\n",
       "      <th>Daily</th>\n",
       "      <th>I don't</th>\n",
       "      <th>Rarely</th>\n",
       "      <th>Weekly</th>\n",
       "      <th>All</th>\n",
       "    </tr>\n",
       "    <tr>\n",
       "      <th>Category</th>\n",
       "      <th></th>\n",
       "      <th></th>\n",
       "      <th></th>\n",
       "      <th></th>\n",
       "      <th></th>\n",
       "    </tr>\n",
       "  </thead>\n",
       "  <tbody>\n",
       "    <tr>\n",
       "      <th>Healthy</th>\n",
       "      <td>8</td>\n",
       "      <td>0</td>\n",
       "      <td>5</td>\n",
       "      <td>14</td>\n",
       "      <td>27</td>\n",
       "    </tr>\n",
       "    <tr>\n",
       "      <th>Obese</th>\n",
       "      <td>0</td>\n",
       "      <td>3</td>\n",
       "      <td>3</td>\n",
       "      <td>4</td>\n",
       "      <td>10</td>\n",
       "    </tr>\n",
       "    <tr>\n",
       "      <th>Overweight</th>\n",
       "      <td>12</td>\n",
       "      <td>3</td>\n",
       "      <td>10</td>\n",
       "      <td>5</td>\n",
       "      <td>30</td>\n",
       "    </tr>\n",
       "    <tr>\n",
       "      <th>Underweight</th>\n",
       "      <td>1</td>\n",
       "      <td>0</td>\n",
       "      <td>4</td>\n",
       "      <td>0</td>\n",
       "      <td>5</td>\n",
       "    </tr>\n",
       "    <tr>\n",
       "      <th>All</th>\n",
       "      <td>21</td>\n",
       "      <td>6</td>\n",
       "      <td>22</td>\n",
       "      <td>23</td>\n",
       "      <td>72</td>\n",
       "    </tr>\n",
       "  </tbody>\n",
       "</table>\n",
       "</div>"
      ],
      "text/plain": [
       "                      Frequency_of_exercise                          \n",
       "Frequency_of_exercise                 Daily I don't Rarely Weekly All\n",
       "Category                                                             \n",
       "Healthy                                   8       0      5     14  27\n",
       "Obese                                     0       3      3      4  10\n",
       "Overweight                               12       3     10      5  30\n",
       "Underweight                               1       0      4      0   5\n",
       "All                                      21       6     22     23  72"
      ]
     },
     "execution_count": 45,
     "metadata": {
      "tags": []
     },
     "output_type": "execute_result"
    }
   ],
   "source": [
    "table, results = rp.crosstab(Salaried_employee['Category'], Salaried_employee['Frequency_of_exercise'], test= 'chi-square') #,prop='row')    \n",
    "table"
   ]
  },
  {
   "cell_type": "code",
   "execution_count": null,
   "metadata": {
    "colab": {
     "base_uri": "https://localhost:8080/",
     "height": 136
    },
    "id": "7_RcKMhmfkDY",
    "outputId": "f1019279-5605-425c-de2a-76d47fab6282"
   },
   "outputs": [
    {
     "data": {
      "text/html": [
       "<div>\n",
       "<style scoped>\n",
       "    .dataframe tbody tr th:only-of-type {\n",
       "        vertical-align: middle;\n",
       "    }\n",
       "\n",
       "    .dataframe tbody tr th {\n",
       "        vertical-align: top;\n",
       "    }\n",
       "\n",
       "    .dataframe thead th {\n",
       "        text-align: right;\n",
       "    }\n",
       "</style>\n",
       "<table border=\"1\" class=\"dataframe\">\n",
       "  <thead>\n",
       "    <tr style=\"text-align: right;\">\n",
       "      <th></th>\n",
       "      <th>Chi-square test</th>\n",
       "      <th>results</th>\n",
       "    </tr>\n",
       "  </thead>\n",
       "  <tbody>\n",
       "    <tr>\n",
       "      <th>0</th>\n",
       "      <td>Pearson Chi-square ( 9.0) =</td>\n",
       "      <td>25.3694</td>\n",
       "    </tr>\n",
       "    <tr>\n",
       "      <th>1</th>\n",
       "      <td>p-value =</td>\n",
       "      <td>0.0026</td>\n",
       "    </tr>\n",
       "    <tr>\n",
       "      <th>2</th>\n",
       "      <td>Cramer's V =</td>\n",
       "      <td>0.3427</td>\n",
       "    </tr>\n",
       "  </tbody>\n",
       "</table>\n",
       "</div>"
      ],
      "text/plain": [
       "                Chi-square test  results\n",
       "0  Pearson Chi-square ( 9.0) =   25.3694\n",
       "1                    p-value =    0.0026\n",
       "2                 Cramer's V =    0.3427"
      ]
     },
     "execution_count": 46,
     "metadata": {
      "tags": []
     },
     "output_type": "execute_result"
    }
   ],
   "source": [
    "results"
   ]
  },
  {
   "cell_type": "markdown",
   "metadata": {
    "id": "4BYDe-TveZ-P"
   },
   "source": [
    "### Conclusion\n",
    "* There is significant difference between the BMI category of salaried people and their frequency of exercise ( dependent )"
   ]
  },
  {
   "cell_type": "markdown",
   "metadata": {
    "id": "kY7OkgVwjbHQ"
   },
   "source": [
    "#2"
   ]
  },
  {
   "cell_type": "markdown",
   "metadata": {
    "id": "z36UVclBfwjc"
   },
   "source": [
    "### Hypothesis\n",
    "* H0:- There is no significant difference between time spent on exercise and level of fitness ( independent )\n",
    "\n",
    "* H1:- There is significant difference between time spent on exercise and level of fitness ( dependent )"
   ]
  },
  {
   "cell_type": "code",
   "execution_count": 56,
   "metadata": {
    "colab": {
     "base_uri": "https://localhost:8080/",
     "height": 254
    },
    "id": "KqdYe8KufzvR",
    "outputId": "628a3979-4b25-4239-cfb8-dfc41ea5dffa"
   },
   "outputs": [
    {
     "data": {
      "text/html": [
       "<div>\n",
       "<style scoped>\n",
       "    .dataframe tbody tr th:only-of-type {\n",
       "        vertical-align: middle;\n",
       "    }\n",
       "\n",
       "    .dataframe tbody tr th {\n",
       "        vertical-align: top;\n",
       "    }\n",
       "\n",
       "    .dataframe thead tr th {\n",
       "        text-align: left;\n",
       "    }\n",
       "\n",
       "    .dataframe thead tr:last-of-type th {\n",
       "        text-align: right;\n",
       "    }\n",
       "</style>\n",
       "<table border=\"1\" class=\"dataframe\">\n",
       "  <thead>\n",
       "    <tr>\n",
       "      <th></th>\n",
       "      <th colspan=\"7\" halign=\"left\">Level_of_fitness</th>\n",
       "    </tr>\n",
       "    <tr>\n",
       "      <th>Level_of_fitness</th>\n",
       "      <th>5</th>\n",
       "      <th>6</th>\n",
       "      <th>7</th>\n",
       "      <th>8</th>\n",
       "      <th>9</th>\n",
       "      <th>10</th>\n",
       "      <th>All</th>\n",
       "    </tr>\n",
       "    <tr>\n",
       "      <th>Time_spent_on_exercise</th>\n",
       "      <th></th>\n",
       "      <th></th>\n",
       "      <th></th>\n",
       "      <th></th>\n",
       "      <th></th>\n",
       "      <th></th>\n",
       "      <th></th>\n",
       "    </tr>\n",
       "  </thead>\n",
       "  <tbody>\n",
       "    <tr>\n",
       "      <th>30</th>\n",
       "      <td>0</td>\n",
       "      <td>4</td>\n",
       "      <td>1</td>\n",
       "      <td>4</td>\n",
       "      <td>2</td>\n",
       "      <td>0</td>\n",
       "      <td>11</td>\n",
       "    </tr>\n",
       "    <tr>\n",
       "      <th>45</th>\n",
       "      <td>0</td>\n",
       "      <td>2</td>\n",
       "      <td>9</td>\n",
       "      <td>13</td>\n",
       "      <td>7</td>\n",
       "      <td>0</td>\n",
       "      <td>31</td>\n",
       "    </tr>\n",
       "    <tr>\n",
       "      <th>60</th>\n",
       "      <td>1</td>\n",
       "      <td>0</td>\n",
       "      <td>2</td>\n",
       "      <td>9</td>\n",
       "      <td>11</td>\n",
       "      <td>1</td>\n",
       "      <td>24</td>\n",
       "    </tr>\n",
       "    <tr>\n",
       "      <th>90</th>\n",
       "      <td>0</td>\n",
       "      <td>0</td>\n",
       "      <td>0</td>\n",
       "      <td>4</td>\n",
       "      <td>2</td>\n",
       "      <td>0</td>\n",
       "      <td>6</td>\n",
       "    </tr>\n",
       "    <tr>\n",
       "      <th>All</th>\n",
       "      <td>1</td>\n",
       "      <td>6</td>\n",
       "      <td>12</td>\n",
       "      <td>30</td>\n",
       "      <td>22</td>\n",
       "      <td>1</td>\n",
       "      <td>72</td>\n",
       "    </tr>\n",
       "  </tbody>\n",
       "</table>\n",
       "</div>"
      ],
      "text/plain": [
       "                       Level_of_fitness                      \n",
       "Level_of_fitness                      5  6   7   8   9 10 All\n",
       "Time_spent_on_exercise                                       \n",
       "30                                    0  4   1   4   2  0  11\n",
       "45                                    0  2   9  13   7  0  31\n",
       "60                                    1  0   2   9  11  1  24\n",
       "90                                    0  0   0   4   2  0   6\n",
       "All                                   1  6  12  30  22  1  72"
      ]
     },
     "execution_count": 56,
     "metadata": {
      "tags": []
     },
     "output_type": "execute_result"
    }
   ],
   "source": [
    "table, results = rp.crosstab(Salaried_employee['Time_spent_on_exercise'], Salaried_employee['Level_of_fitness'], test= 'chi-square') #,prop='row')\n",
    "table"
   ]
  },
  {
   "cell_type": "code",
   "execution_count": 57,
   "metadata": {
    "colab": {
     "base_uri": "https://localhost:8080/",
     "height": 136
    },
    "id": "YGYnn0sDf0C3",
    "outputId": "eae158d1-be0a-40ea-e876-ab713781c342"
   },
   "outputs": [
    {
     "data": {
      "text/html": [
       "<div>\n",
       "<style scoped>\n",
       "    .dataframe tbody tr th:only-of-type {\n",
       "        vertical-align: middle;\n",
       "    }\n",
       "\n",
       "    .dataframe tbody tr th {\n",
       "        vertical-align: top;\n",
       "    }\n",
       "\n",
       "    .dataframe thead th {\n",
       "        text-align: right;\n",
       "    }\n",
       "</style>\n",
       "<table border=\"1\" class=\"dataframe\">\n",
       "  <thead>\n",
       "    <tr style=\"text-align: right;\">\n",
       "      <th></th>\n",
       "      <th>Chi-square test</th>\n",
       "      <th>results</th>\n",
       "    </tr>\n",
       "  </thead>\n",
       "  <tbody>\n",
       "    <tr>\n",
       "      <th>0</th>\n",
       "      <td>Pearson Chi-square ( 15.0) =</td>\n",
       "      <td>26.3455</td>\n",
       "    </tr>\n",
       "    <tr>\n",
       "      <th>1</th>\n",
       "      <td>p-value =</td>\n",
       "      <td>0.0345</td>\n",
       "    </tr>\n",
       "    <tr>\n",
       "      <th>2</th>\n",
       "      <td>Cramer's V =</td>\n",
       "      <td>0.3492</td>\n",
       "    </tr>\n",
       "  </tbody>\n",
       "</table>\n",
       "</div>"
      ],
      "text/plain": [
       "                 Chi-square test  results\n",
       "0  Pearson Chi-square ( 15.0) =   26.3455\n",
       "1                     p-value =    0.0345\n",
       "2                  Cramer's V =    0.3492"
      ]
     },
     "execution_count": 57,
     "metadata": {
      "tags": []
     },
     "output_type": "execute_result"
    }
   ],
   "source": [
    "results"
   ]
  },
  {
   "cell_type": "markdown",
   "metadata": {
    "id": "bfnaglohf0by"
   },
   "source": [
    "### Conclusion\n",
    "* There is significant difference between the BMI category of salaried people and frequency of exercise ( dependent )"
   ]
  },
  {
   "cell_type": "markdown",
   "metadata": {
    "id": "ST-ARDt6gHBl"
   },
   "source": [
    "# 2. CHI-SQUARE TEST OF HOMOGEINITY"
   ]
  },
  {
   "cell_type": "markdown",
   "metadata": {
    "id": "R8XV3YVFjsVv"
   },
   "source": [
    "#1"
   ]
  },
  {
   "cell_type": "markdown",
   "metadata": {
    "id": "MUMcXCJsgKDS"
   },
   "source": [
    "### Hypothesis\n",
    "* H0:- There is no significant difference between time spent on exercise and hurdles for exercising ( independent )\n",
    "\n",
    "* H1:- There is significant difference between time spent on exercise and hurdles for exercising ( dependent )"
   ]
  },
  {
   "cell_type": "code",
   "execution_count": null,
   "metadata": {
    "colab": {
     "base_uri": "https://localhost:8080/",
     "height": 271
    },
    "id": "RPlXn0JrgDjr",
    "outputId": "aaf3c672-5560-4ed9-b81e-0623ba56f333"
   },
   "outputs": [
    {
     "data": {
      "text/html": [
       "<div>\n",
       "<style scoped>\n",
       "    .dataframe tbody tr th:only-of-type {\n",
       "        vertical-align: middle;\n",
       "    }\n",
       "\n",
       "    .dataframe tbody tr th {\n",
       "        vertical-align: top;\n",
       "    }\n",
       "\n",
       "    .dataframe thead tr th {\n",
       "        text-align: left;\n",
       "    }\n",
       "\n",
       "    .dataframe thead tr:last-of-type th {\n",
       "        text-align: right;\n",
       "    }\n",
       "</style>\n",
       "<table border=\"1\" class=\"dataframe\">\n",
       "  <thead>\n",
       "    <tr>\n",
       "      <th></th>\n",
       "      <th colspan=\"7\" halign=\"left\">Hurdles_for_exercising</th>\n",
       "    </tr>\n",
       "    <tr>\n",
       "      <th>Hurdles_for_exercising</th>\n",
       "      <th>Academic pressure</th>\n",
       "      <th>Family pressure</th>\n",
       "      <th>Health issues/concerns</th>\n",
       "      <th>Lack of motivation</th>\n",
       "      <th>Lack of time</th>\n",
       "      <th>Other commitments/responsibilities</th>\n",
       "      <th>All</th>\n",
       "    </tr>\n",
       "    <tr>\n",
       "      <th>Time_spent_on_exercise</th>\n",
       "      <th></th>\n",
       "      <th></th>\n",
       "      <th></th>\n",
       "      <th></th>\n",
       "      <th></th>\n",
       "      <th></th>\n",
       "      <th></th>\n",
       "    </tr>\n",
       "  </thead>\n",
       "  <tbody>\n",
       "    <tr>\n",
       "      <th>30</th>\n",
       "      <td>2</td>\n",
       "      <td>0</td>\n",
       "      <td>3</td>\n",
       "      <td>2</td>\n",
       "      <td>3</td>\n",
       "      <td>1</td>\n",
       "      <td>11</td>\n",
       "    </tr>\n",
       "    <tr>\n",
       "      <th>45</th>\n",
       "      <td>1</td>\n",
       "      <td>3</td>\n",
       "      <td>4</td>\n",
       "      <td>7</td>\n",
       "      <td>9</td>\n",
       "      <td>7</td>\n",
       "      <td>31</td>\n",
       "    </tr>\n",
       "    <tr>\n",
       "      <th>60</th>\n",
       "      <td>0</td>\n",
       "      <td>4</td>\n",
       "      <td>0</td>\n",
       "      <td>1</td>\n",
       "      <td>4</td>\n",
       "      <td>15</td>\n",
       "      <td>24</td>\n",
       "    </tr>\n",
       "    <tr>\n",
       "      <th>90</th>\n",
       "      <td>0</td>\n",
       "      <td>1</td>\n",
       "      <td>1</td>\n",
       "      <td>1</td>\n",
       "      <td>3</td>\n",
       "      <td>0</td>\n",
       "      <td>6</td>\n",
       "    </tr>\n",
       "    <tr>\n",
       "      <th>All</th>\n",
       "      <td>3</td>\n",
       "      <td>8</td>\n",
       "      <td>8</td>\n",
       "      <td>11</td>\n",
       "      <td>19</td>\n",
       "      <td>23</td>\n",
       "      <td>72</td>\n",
       "    </tr>\n",
       "  </tbody>\n",
       "</table>\n",
       "</div>"
      ],
      "text/plain": [
       "                       Hurdles_for_exercising  ...    \n",
       "Hurdles_for_exercising      Academic pressure  ... All\n",
       "Time_spent_on_exercise                         ...    \n",
       "30                                          2  ...  11\n",
       "45                                          1  ...  31\n",
       "60                                          0  ...  24\n",
       "90                                          0  ...   6\n",
       "All                                         3  ...  72\n",
       "\n",
       "[5 rows x 7 columns]"
      ]
     },
     "execution_count": 49,
     "metadata": {
      "tags": []
     },
     "output_type": "execute_result"
    }
   ],
   "source": [
    "table, results = rp.crosstab(Salaried_employee['Time_spent_on_exercise'], Salaried_employee['Hurdles_for_exercising'], test= 'chi-square') #,prop='row')  \n",
    "table"
   ]
  },
  {
   "cell_type": "code",
   "execution_count": null,
   "metadata": {
    "colab": {
     "base_uri": "https://localhost:8080/",
     "height": 136
    },
    "id": "bCVqo5L0gP3K",
    "outputId": "ee94b8f7-5179-4230-f76b-3182a0e5a03b"
   },
   "outputs": [
    {
     "data": {
      "text/html": [
       "<div>\n",
       "<style scoped>\n",
       "    .dataframe tbody tr th:only-of-type {\n",
       "        vertical-align: middle;\n",
       "    }\n",
       "\n",
       "    .dataframe tbody tr th {\n",
       "        vertical-align: top;\n",
       "    }\n",
       "\n",
       "    .dataframe thead th {\n",
       "        text-align: right;\n",
       "    }\n",
       "</style>\n",
       "<table border=\"1\" class=\"dataframe\">\n",
       "  <thead>\n",
       "    <tr style=\"text-align: right;\">\n",
       "      <th></th>\n",
       "      <th>Chi-square test</th>\n",
       "      <th>results</th>\n",
       "    </tr>\n",
       "  </thead>\n",
       "  <tbody>\n",
       "    <tr>\n",
       "      <th>0</th>\n",
       "      <td>Pearson Chi-square ( 15.0) =</td>\n",
       "      <td>31.0061</td>\n",
       "    </tr>\n",
       "    <tr>\n",
       "      <th>1</th>\n",
       "      <td>p-value =</td>\n",
       "      <td>0.0088</td>\n",
       "    </tr>\n",
       "    <tr>\n",
       "      <th>2</th>\n",
       "      <td>Cramer's V =</td>\n",
       "      <td>0.3789</td>\n",
       "    </tr>\n",
       "  </tbody>\n",
       "</table>\n",
       "</div>"
      ],
      "text/plain": [
       "                 Chi-square test  results\n",
       "0  Pearson Chi-square ( 15.0) =   31.0061\n",
       "1                     p-value =    0.0088\n",
       "2                  Cramer's V =    0.3789"
      ]
     },
     "execution_count": 50,
     "metadata": {
      "tags": []
     },
     "output_type": "execute_result"
    }
   ],
   "source": [
    "results"
   ]
  },
  {
   "cell_type": "markdown",
   "metadata": {
    "id": "78PcnobLgSsQ"
   },
   "source": [
    "### Conclusion\n",
    "* There is significant difference between the BMI category of salaried people and frequency of exercise ( dependent )"
   ]
  },
  {
   "cell_type": "markdown",
   "metadata": {
    "id": "qOV-p86fgbUD"
   },
   "source": [
    "# T-TEST"
   ]
  },
  {
   "cell_type": "markdown",
   "metadata": {
    "id": "VV7TuG39gd-C"
   },
   "source": [
    "## 1. ONE SAMPLE T-TEST"
   ]
  },
  {
   "cell_type": "markdown",
   "metadata": {
    "id": "PCuaPY64w39i"
   },
   "source": [
    "# 1"
   ]
  },
  {
   "cell_type": "markdown",
   "metadata": {
    "id": "7ZfhGELEghUn"
   },
   "source": [
    "### Hypothesis\n",
    "* H0:- There is no significant difference between average calories burnt in last month ( independent )\n",
    "\n",
    "* H1:- There is significant difference between average calories burnt in last month  ( dependent )"
   ]
  },
  {
   "cell_type": "code",
   "execution_count": null,
   "metadata": {
    "colab": {
     "base_uri": "https://localhost:8080/"
    },
    "id": "koyUJGiygkk7",
    "outputId": "090a2620-7c2a-4cda-9d2e-c468873c6fa3"
   },
   "outputs": [
    {
     "data": {
      "text/plain": [
       "Ttest_1sampResult(statistic=0.007260104781308798, pvalue=0.994217036744689)"
      ]
     },
     "execution_count": 53,
     "metadata": {
      "tags": []
     },
     "output_type": "execute_result"
    }
   ],
   "source": [
    "from scipy.stats  import ttest_ind,ttest_1samp,ttest_rel\n",
    "Time=df['Average_calories_burnt_in_last_month']\n",
    "ttest_1samp(Time,3277)"
   ]
  },
  {
   "cell_type": "markdown",
   "metadata": {
    "id": "4jYY_vZPgngp"
   },
   "source": [
    "### Conclusion\n",
    "* There is is no significant difference between average calories burnt in last month (dependent)"
   ]
  },
  {
   "cell_type": "markdown",
   "metadata": {
    "id": "dpBzs-Naw7nK"
   },
   "source": [
    "#2"
   ]
  },
  {
   "cell_type": "markdown",
   "metadata": {
    "id": "bUJfrcR2w9It"
   },
   "source": [
    "### Hypothesis\n",
    "H0:- There is no significant difference in level of fitness ( independent )\n",
    "\n",
    "H1:- There is significant difference difference in level of fitness ( dependent )"
   ]
  },
  {
   "cell_type": "code",
   "execution_count": 60,
   "metadata": {
    "colab": {
     "base_uri": "https://localhost:8080/"
    },
    "id": "BY0TnolMx2q1",
    "outputId": "bc484885-6150-4505-f359-c835b1c11b5a"
   },
   "outputs": [
    {
     "data": {
      "text/plain": [
       "Ttest_1sampResult(statistic=0.0709240089823861, pvalue=0.9435533404732818)"
      ]
     },
     "execution_count": 60,
     "metadata": {
      "tags": []
     },
     "output_type": "execute_result"
    }
   ],
   "source": [
    "Fitness_level=df['Level_of_fitness']\n",
    "ttest_1samp(Fitness_level,7.84)"
   ]
  },
  {
   "cell_type": "markdown",
   "metadata": {
    "id": "zoh6arC4xEWA"
   },
   "source": [
    "### Conclusion\n",
    "* There is no significant difference in level of fitness ( independent )"
   ]
  },
  {
   "cell_type": "markdown",
   "metadata": {
    "id": "zrxQqS41hDUs"
   },
   "source": [
    "# 2.TWO SAMPLE T-TEST"
   ]
  },
  {
   "cell_type": "markdown",
   "metadata": {
    "id": "-RQEAjtLka0B"
   },
   "source": [
    "# 1"
   ]
  },
  {
   "cell_type": "markdown",
   "metadata": {
    "id": "RZlLPDDNhG-D"
   },
   "source": [
    "### Hypothesis\n",
    "* H0:- There is no significant difference between male BMI and female BMI of salried employee category ( independent )\n",
    "\n",
    "* H1:- There is significant difference between male BMI and female BMI of salried employee category ( dependent )"
   ]
  },
  {
   "cell_type": "code",
   "execution_count": 70,
   "metadata": {
    "colab": {
     "base_uri": "https://localhost:8080/"
    },
    "id": "z_B5hGl3h_o6",
    "outputId": "1562c6ef-7231-4b22-ad0b-2e3e8acdca90"
   },
   "outputs": [
    {
     "data": {
      "text/plain": [
       "Ttest_indResult(statistic=0.43761035405740245, pvalue=0.6630160442397591)"
      ]
     },
     "execution_count": 70,
     "metadata": {
      "tags": []
     },
     "output_type": "execute_result"
    }
   ],
   "source": [
    "import scipy\n",
    "twosample_results = scipy.stats.ttest_ind(Men['BMI'],Women['BMI'])\n",
    "twosample_results"
   ]
  },
  {
   "cell_type": "markdown",
   "metadata": {
    "id": "1g4ZN69uh43t"
   },
   "source": [
    "### Conclusion\n",
    "* There is  is significant difference between male BMI and female BMI of of salried employee category( dependent)."
   ]
  },
  {
   "cell_type": "markdown",
   "metadata": {
    "id": "fIK2x0WOyroF"
   },
   "source": [
    "#2"
   ]
  },
  {
   "cell_type": "markdown",
   "metadata": {
    "id": "gUF8nYowyu6h"
   },
   "source": [
    "## Hypothesis\n",
    "* H0:- There is no significant difference between average calories burnt in last month and time spent on exercise by males of salaried employee category. ( independent )\n",
    "\n",
    "* H1:- There is significant difference between verage calories burnt in last month and time spent on exercise by males of salaried employee category. ( dependent )"
   ]
  },
  {
   "cell_type": "code",
   "execution_count": 63,
   "metadata": {
    "colab": {
     "base_uri": "https://localhost:8080/"
    },
    "id": "JBObsExpz90B",
    "outputId": "5ae3d557-ec9d-4179-a0bb-2fc353042cba"
   },
   "outputs": [
    {
     "data": {
      "text/plain": [
       "Ttest_indResult(statistic=13.576622138262675, pvalue=1.6471719766341657e-20)"
      ]
     },
     "execution_count": 63,
     "metadata": {
      "tags": []
     },
     "output_type": "execute_result"
    }
   ],
   "source": [
    "import scipy\n",
    "twosample_results = scipy.stats.ttest_ind(Men['Average_calories_burnt_in_last_month'],Men['Time_spent_on_exercise'])\n",
    "twosample_results"
   ]
  },
  {
   "cell_type": "markdown",
   "metadata": {
    "id": "s0KjJKqs0EBu"
   },
   "source": [
    "### Conclusion\n",
    "* There is There is significant difference between verage calories burnt in last month and time spent on exercise by males of salaried employee category. ( dependent )"
   ]
  },
  {
   "cell_type": "markdown",
   "metadata": {
    "id": "b2RYWxjy0vWd"
   },
   "source": [
    "#3"
   ]
  },
  {
   "cell_type": "markdown",
   "metadata": {
    "id": "SyG2QMrK0xEh"
   },
   "source": [
    "### Hypothesis\n",
    "* H0:- There is no significant difference between average calories burnt in last month and time spent on exercise by females of salaried employee category. ( independent )\n",
    "\n",
    "* H1:- There is significant difference between verage calories burnt in last month and time spent on exercise by females of salaried employee category. ( dependent )"
   ]
  },
  {
   "cell_type": "code",
   "execution_count": null,
   "metadata": {
    "id": "uY2RMxY_1B4q"
   },
   "outputs": [],
   "source": [
    "import scipy\n",
    "twosample_results = scipy.stats.ttest_ind(Women['Average_calories_burnt_in_last_month'],Women['Time_spent_on_exercise'])\n",
    "twosample_results"
   ]
  },
  {
   "cell_type": "markdown",
   "metadata": {
    "id": "TTkZHgAF0-SO"
   },
   "source": [
    "### Conclusion\n",
    "* There is There is significant difference between verage calories burnt in last month and time spent on exercise by females of salaried employee category. ( dependent )"
   ]
  },
  {
   "cell_type": "markdown",
   "metadata": {
    "id": "sB9NJvuK13ho"
   },
   "source": [
    "# 3. PAIRED SAMPLE T-TEST"
   ]
  },
  {
   "cell_type": "markdown",
   "metadata": {
    "id": "o5KAhaJEkTXr"
   },
   "source": [
    "## 1"
   ]
  },
  {
   "cell_type": "markdown",
   "metadata": {
    "id": "8NJaAIs-i4b_"
   },
   "source": [
    "### Hypothesis\n",
    "* H0:- There is no significant difference between expenditure before and after lockdown by males of salaried employee category( independent )\n",
    "\n",
    "* H1:- There is significant difference between expenditure before and after lockdown by males salaried employee category ( dependent )"
   ]
  },
  {
   "cell_type": "code",
   "execution_count": 73,
   "metadata": {
    "colab": {
     "base_uri": "https://localhost:8080/"
    },
    "id": "una64LUGi3XK",
    "outputId": "d6943753-772d-461e-ef7f-da22368e084f"
   },
   "outputs": [
    {
     "data": {
      "text/plain": [
       "Ttest_relResult(statistic=12.026433434238449, pvalue=2.0689857486166663e-13)"
      ]
     },
     "execution_count": 73,
     "metadata": {
      "tags": []
     },
     "output_type": "execute_result"
    }
   ],
   "source": [
    "from scipy.stats  import ttest_ind,ttest_1samp,ttest_rel\n",
    "a=Men['Expenditure_before']\n",
    "b=Men['Expenditure_after']\n",
    "ttest_rel(a,b)"
   ]
  },
  {
   "cell_type": "markdown",
   "metadata": {
    "id": "EJ9bFJVNjL9F"
   },
   "source": [
    "### Conclusion\n",
    "* There is significant difference between expenditure before and after lockdown by males of salaried employee category ( dependent )"
   ]
  },
  {
   "cell_type": "markdown",
   "metadata": {
    "id": "s7AnW85u93sw"
   },
   "source": [
    "#2"
   ]
  },
  {
   "cell_type": "markdown",
   "metadata": {
    "id": "jAuKZS7e9_ik"
   },
   "source": [
    "### Hypothesis\n",
    "* H0:- There is no significant difference between expenditure before and after lockdown by females of salaried employee category( independent )\n",
    "\n",
    "* H1:- There is significant difference between expenditure before and after lockdown by females of salaried employee category ( dependent )"
   ]
  },
  {
   "cell_type": "code",
   "execution_count": 75,
   "metadata": {
    "colab": {
     "base_uri": "https://localhost:8080/"
    },
    "id": "2i5tAukj-bcX",
    "outputId": "c676c480-64cc-4593-a4c6-6c8d57ea5dd8"
   },
   "outputs": [
    {
     "data": {
      "text/plain": [
       "Ttest_relResult(statistic=6.902802045903792, pvalue=3.329953634398286e-08)"
      ]
     },
     "execution_count": 75,
     "metadata": {
      "tags": []
     },
     "output_type": "execute_result"
    }
   ],
   "source": [
    "from scipy.stats  import ttest_ind,ttest_1samp,ttest_rel\n",
    "a=Women['Expenditure_before']\n",
    "b=Women['Expenditure_after']\n",
    "ttest_rel(a,b)"
   ]
  },
  {
   "cell_type": "markdown",
   "metadata": {
    "id": "J-O3FljF-ZY_"
   },
   "source": [
    "### Conclusion\n",
    "* There is significant difference between expenditure before and after lockdown by females of salaried employee category ( dependent )"
   ]
  },
  {
   "cell_type": "markdown",
   "metadata": {
    "id": "t3zeelmZjg1N"
   },
   "source": [
    "# ONE WAY ANOVA"
   ]
  },
  {
   "cell_type": "markdown",
   "metadata": {
    "id": "KZ_xCCOPmmit"
   },
   "source": [
    "# 1"
   ]
  },
  {
   "cell_type": "markdown",
   "metadata": {
    "id": "qctBgYJnj2ud"
   },
   "source": [
    "The purpose of this study was to test for a difference between the BMI of people from different employment status.\n",
    "\n",
    "H0:- There is no significance difference between the BMI of people from all employment status.\n",
    "Vs\n",
    "\n",
    "H1:- There is significance difference between the BMI of people from all employment status."
   ]
  },
  {
   "cell_type": "code",
   "execution_count": null,
   "metadata": {
    "colab": {
     "base_uri": "https://localhost:8080/"
    },
    "id": "QIQEDBzyWbxN",
    "outputId": "04546710-9824-42ab-adee-cbe760224ce4"
   },
   "outputs": [
    {
     "name": "stdout",
     "output_type": "stream",
     "text": [
      "              Source           SS   DF  ...          F     p-unc       np2\n",
      "0  Employment_status   647.608644    2  ...  12.661827  0.000008  0.146954\n",
      "1             Within  3759.270690  147  ...        NaN       NaN       NaN\n",
      "\n",
      "[2 rows x 7 columns]\n"
     ]
    }
   ],
   "source": [
    "aov = pg.anova(data=df, dv='BMI', between='Employment_status', detailed=True)\n",
    "print(aov)"
   ]
  },
  {
   "cell_type": "code",
   "execution_count": null,
   "metadata": {
    "colab": {
     "base_uri": "https://localhost:8080/"
    },
    "id": "2ub4ZvoPW5HD",
    "outputId": "37d2a201-2df8-4cb6-ac8d-d70dffc42756"
   },
   "outputs": [
    {
     "data": {
      "text/plain": [
       "F_onewayResult(statistic=2.0876679053815286, pvalue=0.12763649440853847)"
      ]
     },
     "execution_count": 55,
     "metadata": {
      "tags": []
     },
     "output_type": "execute_result"
    }
   ],
   "source": [
    "stats.f_oneway(df['Level_of_fitness'][df['Employment_status'] == 'Salaried Employee'],\n",
    "               df['Level_of_fitness'][df['Employment_status'] == 'Self Employed'],\n",
    "               df['Level_of_fitness'][df['Employment_status'] == 'Unemployed'])"
   ]
  },
  {
   "cell_type": "markdown",
   "metadata": {
    "id": "fL4geGoYknhF"
   },
   "source": [
    "### Conclusion\n",
    "There is no significance difference between the  BMI of people from all employment status."
   ]
  },
  {
   "cell_type": "markdown",
   "metadata": {
    "id": "z2-D66FNlnKg"
   },
   "source": [
    "## Assumptions of ANOVA"
   ]
  },
  {
   "cell_type": "markdown",
   "metadata": {
    "id": "TTDMQgWHluig"
   },
   "source": [
    "### Levene Test\n",
    "it is used to check the equality of Variance between the Brand ( Treatment) or Homogeneity of Variance\n",
    "\n",
    "H0:- There is no significance difference between the BMI of people from all employment status.\n",
    "Vs\n",
    "\n",
    "H1:- There is significance difference between the BMI of people from all employment status."
   ]
  },
  {
   "cell_type": "code",
   "execution_count": null,
   "metadata": {
    "colab": {
     "base_uri": "https://localhost:8080/"
    },
    "id": "FiEwUnqZmQaO",
    "outputId": "e6f6cc31-3587-4280-c6e8-4a9e0d5e3a67"
   },
   "outputs": [
    {
     "data": {
      "text/plain": [
       "LeveneResult(statistic=1.634024076356026, pvalue=0.1986669712211215)"
      ]
     },
     "execution_count": 18,
     "metadata": {
      "tags": []
     },
     "output_type": "execute_result"
    }
   ],
   "source": [
    "stats.levene(df['Level_of_fitness'][df['Employment_status'] == 'Salaried Employee'],\n",
    "               df['Level_of_fitness'][df['Employment_status'] == 'Self Employed'],\n",
    "               df['Level_of_fitness'][df['Employment_status'] == 'Unemployed'])"
   ]
  },
  {
   "cell_type": "markdown",
   "metadata": {
    "id": "v57IrJaBmZpm"
   },
   "source": [
    "### Conclusion\n",
    "There is no significance difference between the  BMI of people from all employment status."
   ]
  },
  {
   "cell_type": "code",
   "execution_count": null,
   "metadata": {
    "colab": {
     "base_uri": "https://localhost:8080/",
     "height": 115
    },
    "id": "olr9PiMGnK8G",
    "outputId": "19f2a987-9ddb-4459-d958-f36e27f0fa32"
   },
   "outputs": [
    {
     "data": {
      "text/html": [
       "<table class=\"simpletable\">\n",
       "<caption>Multiple Comparison of Means - Tukey HSD, FWER=0.05</caption>\n",
       "<tr>\n",
       "       <th>group1</th>          <th>group2</th>     <th>meandiff</th> <th>p-adj</th>  <th>lower</th>   <th>upper</th>  <th>reject</th>\n",
       "</tr>\n",
       "<tr>\n",
       "  <td>Salaried Employee</td> <td>Self Employed</td>  <td>0.1815</td>   <td>0.9</td>  <td>-2.4854</td> <td>2.8484</td>   <td>False</td>\n",
       "</tr>\n",
       "<tr>\n",
       "  <td>Salaried Employee</td>  <td>Unemployed</td>    <td>-4.3547</td> <td>0.001</td> <td>-6.559</td>  <td>-2.1503</td>  <td>True</td> \n",
       "</tr>\n",
       "<tr>\n",
       "    <td>Self Employed</td>    <td>Unemployed</td>    <td>-4.5362</td> <td>0.001</td> <td>-7.3626</td> <td>-1.7098</td>  <td>True</td> \n",
       "</tr>\n",
       "</table>"
      ],
      "text/plain": [
       "<class 'statsmodels.iolib.table.SimpleTable'>"
      ]
     },
     "execution_count": 20,
     "metadata": {
      "tags": []
     },
     "output_type": "execute_result"
    }
   ],
   "source": [
    "import statsmodels.stats.multicomp as mc\n",
    "\n",
    "comp = mc.MultiComparison(df['BMI'], df['Employment_status'])\n",
    "post_hoc_res = comp.tukeyhsd()\n",
    "post_hoc_res.summary()"
   ]
  },
  {
   "cell_type": "markdown",
   "metadata": {
    "id": "UHpyaBMbmr1E"
   },
   "source": [
    "# 2"
   ]
  },
  {
   "cell_type": "markdown",
   "metadata": {
    "id": "ig7TZElbnGVl"
   },
   "source": [
    "The purpose of this study was to test for a difference between the BMI of people from different employment status.\n",
    "\n",
    "H0:- There is no significance difference between the BMI of people from salaried employees with respect to gender.\n",
    "\n",
    "\n",
    "H1:- There is significance difference between the BMI of people from salaried employees with respect to gender."
   ]
  },
  {
   "cell_type": "code",
   "execution_count": null,
   "metadata": {
    "id": "CMxOPsSmqCf7"
   },
   "outputs": [],
   "source": [
    "aov = pg.anova(data=Salaried_employee, dv='BMI', between='Gender', detailed=True)\n",
    "print(aov)"
   ]
  },
  {
   "cell_type": "code",
   "execution_count": null,
   "metadata": {
    "colab": {
     "base_uri": "https://localhost:8080/"
    },
    "id": "6zYauCl8qNat",
    "outputId": "993a1274-39a7-4437-8a43-5f3dcd47d072"
   },
   "outputs": [
    {
     "data": {
      "text/plain": [
       "F_onewayResult(statistic=0.19150282197824517, pvalue=0.6630160442397566)"
      ]
     },
     "execution_count": 23,
     "metadata": {
      "tags": []
     },
     "output_type": "execute_result"
    }
   ],
   "source": [
    "stats.f_oneway(Salaried_employee['BMI'][Salaried_employee['Gender'] == 'Male'],\n",
    "               Salaried_employee['BMI'][Salaried_employee['Gender'] == 'Female'])"
   ]
  },
  {
   "cell_type": "markdown",
   "metadata": {
    "id": "zqhqOfwGtYjs"
   },
   "source": [
    "Conclusion\n",
    "\n",
    "There is no significance difference between the BMI of people from salaried employees with respect to gender"
   ]
  },
  {
   "cell_type": "markdown",
   "metadata": {
    "id": "-oZ1dE64tjbG"
   },
   "source": [
    "Levene Test\n",
    "\n",
    "It is used to check the equality of Variance between the Brand ( Treatment) or Homogeneity of Variance\n",
    "\n",
    "H0:- There is no significance difference between the BMI of people from salaried employees with respect to gender.\n",
    "\n",
    "\n",
    "H1:- There is significance difference between the BMI of people from salaried employees with respect to gender."
   ]
  },
  {
   "cell_type": "code",
   "execution_count": null,
   "metadata": {
    "colab": {
     "base_uri": "https://localhost:8080/"
    },
    "id": "Ii3T2Q92s_x7",
    "outputId": "f42c982d-4f50-4d83-a263-e1a9c5144dcc"
   },
   "outputs": [
    {
     "data": {
      "text/plain": [
       "LeveneResult(statistic=0.020460189694921856, pvalue=0.8866702361028339)"
      ]
     },
     "execution_count": 24,
     "metadata": {
      "tags": []
     },
     "output_type": "execute_result"
    }
   ],
   "source": [
    "stats.levene(Salaried_employee['BMI'][Salaried_employee['Gender'] == 'Male'],\n",
    "               Salaried_employee['BMI'][Salaried_employee['Gender'] == 'Female'])"
   ]
  },
  {
   "cell_type": "code",
   "execution_count": null,
   "metadata": {
    "colab": {
     "base_uri": "https://localhost:8080/",
     "height": 115
    },
    "id": "IUSEkecUtGzt",
    "outputId": "d08720d1-e788-4d14-c78e-7ebc9a2e5344"
   },
   "outputs": [
    {
     "data": {
      "text/html": [
       "<table class=\"simpletable\">\n",
       "<caption>Multiple Comparison of Means - Tukey HSD, FWER=0.05</caption>\n",
       "<tr>\n",
       "       <th>group1</th>          <th>group2</th>     <th>meandiff</th> <th>p-adj</th>  <th>lower</th>   <th>upper</th>  <th>reject</th>\n",
       "</tr>\n",
       "<tr>\n",
       "  <td>Salaried Employee</td> <td>Self Employed</td>  <td>0.1815</td>   <td>0.9</td>  <td>-2.4854</td> <td>2.8484</td>   <td>False</td>\n",
       "</tr>\n",
       "<tr>\n",
       "  <td>Salaried Employee</td>  <td>Unemployed</td>    <td>-4.3547</td> <td>0.001</td> <td>-6.559</td>  <td>-2.1503</td>  <td>True</td> \n",
       "</tr>\n",
       "<tr>\n",
       "    <td>Self Employed</td>    <td>Unemployed</td>    <td>-4.5362</td> <td>0.001</td> <td>-7.3626</td> <td>-1.7098</td>  <td>True</td> \n",
       "</tr>\n",
       "</table>"
      ],
      "text/plain": [
       "<class 'statsmodels.iolib.table.SimpleTable'>"
      ]
     },
     "execution_count": 25,
     "metadata": {
      "tags": []
     },
     "output_type": "execute_result"
    }
   ],
   "source": [
    "comp = mc.MultiComparison(df['BMI'], df['Employment Status'])\n",
    "post_hoc_res = comp.tukeyhsd()\n",
    "post_hoc_res.summary()"
   ]
  },
  {
   "cell_type": "markdown",
   "metadata": {
    "id": "I_4Z9ndZwRI2"
   },
   "source": [
    "# Linear Regression"
   ]
  },
  {
   "cell_type": "markdown",
   "metadata": {
    "id": "doQZyCJGnGYA"
   },
   "source": [
    "#1"
   ]
  },
  {
   "cell_type": "markdown",
   "metadata": {
    "id": "BoixgSxioxQC"
   },
   "source": [
    "### Hypothesis\n",
    "* H0 : - There is no relationship between the weight & BMI.\n",
    "\n",
    "* H1 : -There is  relationship between the weight & BMI."
   ]
  },
  {
   "cell_type": "code",
   "execution_count": 66,
   "metadata": {
    "colab": {
     "base_uri": "https://localhost:8080/",
     "height": 269
    },
    "id": "VeIwEMsGeDHT",
    "outputId": "a3aa0441-a125-477a-b028-a7254c3beac3"
   },
   "outputs": [
    {
     "data": {
      "text/plain": [
       "<matplotlib.axes._subplots.AxesSubplot at 0x7f078d485710>"
      ]
     },
     "execution_count": 66,
     "metadata": {
      "tags": []
     },
     "output_type": "execute_result"
    },
    {
     "data": {
      "image/png": "[encoded data removed]",
      "text/plain": [
       "<Figure size 432x288 with 1 Axes>"
      ]
     },
     "metadata": {
      "needs_background": "light",
      "tags": []
     },
     "output_type": "display_data"
    }
   ],
   "source": [
    "#Treatment of outlier\n",
    "sns.boxplot(y='Time_spent_on_exercise',data=Salaried_employee)\n",
    "sns.boxplot(y='Average_calories_burnt_in_last_month',data=Salaried_employee)"
   ]
  },
  {
   "cell_type": "code",
   "execution_count": null,
   "metadata": {
    "id": "7--dUR1_sZMV"
   },
   "outputs": [],
   "source": [
    "# Data Partition\n",
    "x=Salaried_employee[['Time_spent_on_exercise']]\n",
    "y=Salaried_employee[['Average_calories_burnt_in_last_month']]\n",
    "X_train, X_test, y_train, y_test=train_test_split(x,y,train_size=0.7,random_state=100)"
   ]
  },
  {
   "cell_type": "code",
   "execution_count": null,
   "metadata": {
    "colab": {
     "base_uri": "https://localhost:8080/",
     "height": 195
    },
    "id": "J1yC5LA2sf-M",
    "outputId": "b64e8aa1-cc7a-488e-8847-6c10f4c15d2d"
   },
   "outputs": [
    {
     "data": {
      "text/html": [
       "<div>\n",
       "<style scoped>\n",
       "    .dataframe tbody tr th:only-of-type {\n",
       "        vertical-align: middle;\n",
       "    }\n",
       "\n",
       "    .dataframe tbody tr th {\n",
       "        vertical-align: top;\n",
       "    }\n",
       "\n",
       "    .dataframe thead th {\n",
       "        text-align: right;\n",
       "    }\n",
       "</style>\n",
       "<table border=\"1\" class=\"dataframe\">\n",
       "  <thead>\n",
       "    <tr style=\"text-align: right;\">\n",
       "      <th></th>\n",
       "      <th>Time_spent_on_exercise</th>\n",
       "      <th>Average_calories_burnt_in_last_month</th>\n",
       "    </tr>\n",
       "  </thead>\n",
       "  <tbody>\n",
       "    <tr>\n",
       "      <th>36</th>\n",
       "      <td>45</td>\n",
       "      <td>2197</td>\n",
       "    </tr>\n",
       "    <tr>\n",
       "      <th>21</th>\n",
       "      <td>45</td>\n",
       "      <td>2703</td>\n",
       "    </tr>\n",
       "    <tr>\n",
       "      <th>14</th>\n",
       "      <td>60</td>\n",
       "      <td>4383</td>\n",
       "    </tr>\n",
       "    <tr>\n",
       "      <th>78</th>\n",
       "      <td>45</td>\n",
       "      <td>2783</td>\n",
       "    </tr>\n",
       "    <tr>\n",
       "      <th>63</th>\n",
       "      <td>60</td>\n",
       "      <td>4909</td>\n",
       "    </tr>\n",
       "  </tbody>\n",
       "</table>\n",
       "</div>"
      ],
      "text/plain": [
       "    Time_spent_on_exercise  Average_calories_burnt_in_last_month\n",
       "36                      45                                  2197\n",
       "21                      45                                  2703\n",
       "14                      60                                  4383\n",
       "78                      45                                  2783\n",
       "63                      60                                  4909"
      ]
     },
     "execution_count": 23,
     "metadata": {
      "tags": []
     },
     "output_type": "execute_result"
    }
   ],
   "source": [
    "train = pd.concat([X_train,y_train], axis=1)\n",
    "train.head()"
   ]
  },
  {
   "cell_type": "code",
   "execution_count": null,
   "metadata": {
    "colab": {
     "base_uri": "https://localhost:8080/",
     "height": 297
    },
    "id": "yD9BN1geuJKN",
    "outputId": "f926e67f-6d6c-4db7-e702-4af19ad369ec"
   },
   "outputs": [
    {
     "data": {
      "text/plain": [
       "<matplotlib.axes._subplots.AxesSubplot at 0x7f07a15fb450>"
      ]
     },
     "execution_count": 24,
     "metadata": {
      "tags": []
     },
     "output_type": "execute_result"
    },
    {
     "data": {
      "image/png": "[encoded data removed]",
      "text/plain": [
       "<Figure size 432x288 with 1 Axes>"
      ]
     },
     "metadata": {
      "needs_background": "light",
      "tags": []
     },
     "output_type": "display_data"
    }
   ],
   "source": [
    "# Correlation Matrix\n",
    "sns.scatterplot(x='Time_spent_on_exercise', y='Average_calories_burnt_in_last_month',data=train)"
   ]
  },
  {
   "cell_type": "code",
   "execution_count": null,
   "metadata": {
    "colab": {
     "base_uri": "https://localhost:8080/",
     "height": 106
    },
    "id": "0yGAPoGVuN5H",
    "outputId": "5fd748a3-ced1-47c4-ec17-f62cb7d6e964"
   },
   "outputs": [
    {
     "data": {
      "text/html": [
       "<div>\n",
       "<style scoped>\n",
       "    .dataframe tbody tr th:only-of-type {\n",
       "        vertical-align: middle;\n",
       "    }\n",
       "\n",
       "    .dataframe tbody tr th {\n",
       "        vertical-align: top;\n",
       "    }\n",
       "\n",
       "    .dataframe thead th {\n",
       "        text-align: right;\n",
       "    }\n",
       "</style>\n",
       "<table border=\"1\" class=\"dataframe\">\n",
       "  <thead>\n",
       "    <tr style=\"text-align: right;\">\n",
       "      <th></th>\n",
       "      <th>Time spent on exercise</th>\n",
       "      <th>Average calories burnt in last month</th>\n",
       "    </tr>\n",
       "  </thead>\n",
       "  <tbody>\n",
       "    <tr>\n",
       "      <th>Time spent on exercise</th>\n",
       "      <td>1.00000</td>\n",
       "      <td>0.94617</td>\n",
       "    </tr>\n",
       "    <tr>\n",
       "      <th>Average calories burnt in last month</th>\n",
       "      <td>0.94617</td>\n",
       "      <td>1.00000</td>\n",
       "    </tr>\n",
       "  </tbody>\n",
       "</table>\n",
       "</div>"
      ],
      "text/plain": [
       "                                      Time spent on exercise  Average calories burnt in last month\n",
       "Time spent on exercise                               1.00000                               0.94617\n",
       "Average calories burnt in last month                 0.94617                               1.00000"
      ]
     },
     "execution_count": 62,
     "metadata": {
      "tags": []
     },
     "output_type": "execute_result"
    }
   ],
   "source": [
    "train.corr()"
   ]
  },
  {
   "cell_type": "code",
   "execution_count": null,
   "metadata": {
    "colab": {
     "base_uri": "https://localhost:8080/",
     "height": 458
    },
    "id": "TE4RnCLMuN8X",
    "outputId": "5a55ca9c-7c04-48c6-a428-513b7a30a4a5"
   },
   "outputs": [
    {
     "data": {
      "text/plain": [
       "<matplotlib.axes._subplots.AxesSubplot at 0x7f4be56ca250>"
      ]
     },
     "execution_count": 54,
     "metadata": {
      "tags": []
     },
     "output_type": "execute_result"
    },
    {
     "data": {
      "image/png": "[encoded data removed]",
      "text/plain": [
       "<Figure size 432x288 with 2 Axes>"
      ]
     },
     "metadata": {
      "needs_background": "light",
      "tags": []
     },
     "output_type": "display_data"
    }
   ],
   "source": [
    "sns.heatmap(train.corr(),annot = True)"
   ]
  },
  {
   "cell_type": "code",
   "execution_count": null,
   "metadata": {
    "colab": {
     "base_uri": "https://localhost:8080/",
     "height": 459
    },
    "id": "ZIQJGoc2uX5Y",
    "outputId": "760148d6-6a3e-4842-91cc-a86e4297385a"
   },
   "outputs": [
    {
     "data": {
      "text/html": [
       "<table class=\"simpletable\">\n",
       "<caption>OLS Regression Results</caption>\n",
       "<tr>\n",
       "  <th>Dep. Variable:</th>    <td>Time_spent_on_exercise</td> <th>  R-squared:         </th> <td>   0.895</td>\n",
       "</tr>\n",
       "<tr>\n",
       "  <th>Model:</th>                      <td>OLS</td>          <th>  Adj. R-squared:    </th> <td>   0.893</td>\n",
       "</tr>\n",
       "<tr>\n",
       "  <th>Method:</th>                <td>Least Squares</td>     <th>  F-statistic:       </th> <td>   410.2</td>\n",
       "</tr>\n",
       "<tr>\n",
       "  <th>Date:</th>                <td>Mon, 10 May 2021</td>    <th>  Prob (F-statistic):</th> <td>3.69e-25</td>\n",
       "</tr>\n",
       "<tr>\n",
       "  <th>Time:</th>                    <td>13:28:44</td>        <th>  Log-Likelihood:    </th> <td> -150.11</td>\n",
       "</tr>\n",
       "<tr>\n",
       "  <th>No. Observations:</th>         <td>    50</td>         <th>  AIC:               </th> <td>   304.2</td>\n",
       "</tr>\n",
       "<tr>\n",
       "  <th>Df Residuals:</th>             <td>    48</td>         <th>  BIC:               </th> <td>   308.0</td>\n",
       "</tr>\n",
       "<tr>\n",
       "  <th>Df Model:</th>                 <td>     1</td>         <th>                     </th>     <td> </td>   \n",
       "</tr>\n",
       "<tr>\n",
       "  <th>Covariance Type:</th>         <td>nonrobust</td>       <th>                     </th>     <td> </td>   \n",
       "</tr>\n",
       "</table>\n",
       "<table class=\"simpletable\">\n",
       "<tr>\n",
       "                    <td></td>                      <th>coef</th>     <th>std err</th>      <th>t</th>      <th>P>|t|</th>  <th>[0.025</th>    <th>0.975]</th>  \n",
       "</tr>\n",
       "<tr>\n",
       "  <th>Intercept</th>                            <td>   17.4077</td> <td>    1.829</td> <td>    9.519</td> <td> 0.000</td> <td>   13.731</td> <td>   21.085</td>\n",
       "</tr>\n",
       "<tr>\n",
       "  <th>Average_calories_burnt_in_last_month</th> <td>    0.0104</td> <td>    0.001</td> <td>   20.253</td> <td> 0.000</td> <td>    0.009</td> <td>    0.011</td>\n",
       "</tr>\n",
       "</table>\n",
       "<table class=\"simpletable\">\n",
       "<tr>\n",
       "  <th>Omnibus:</th>       <td>13.303</td> <th>  Durbin-Watson:     </th> <td>   2.153</td>\n",
       "</tr>\n",
       "<tr>\n",
       "  <th>Prob(Omnibus):</th> <td> 0.001</td> <th>  Jarque-Bera (JB):  </th> <td>  17.828</td>\n",
       "</tr>\n",
       "<tr>\n",
       "  <th>Skew:</th>          <td> 0.884</td> <th>  Prob(JB):          </th> <td>0.000135</td>\n",
       "</tr>\n",
       "<tr>\n",
       "  <th>Kurtosis:</th>      <td> 5.330</td> <th>  Cond. No.          </th> <td>9.24e+03</td>\n",
       "</tr>\n",
       "</table><br/><br/>Warnings:<br/>[1] Standard Errors assume that the covariance matrix of the errors is correctly specified.<br/>[2] The condition number is large, 9.24e+03. This might indicate that there are<br/>strong multicollinearity or other numerical problems."
      ],
      "text/plain": [
       "<class 'statsmodels.iolib.summary.Summary'>\n",
       "\"\"\"\n",
       "                              OLS Regression Results                              \n",
       "==================================================================================\n",
       "Dep. Variable:     Time_spent_on_exercise   R-squared:                       0.895\n",
       "Model:                                OLS   Adj. R-squared:                  0.893\n",
       "Method:                     Least Squares   F-statistic:                     410.2\n",
       "Date:                    Mon, 10 May 2021   Prob (F-statistic):           3.69e-25\n",
       "Time:                            13:28:44   Log-Likelihood:                -150.11\n",
       "No. Observations:                      50   AIC:                             304.2\n",
       "Df Residuals:                          48   BIC:                             308.0\n",
       "Df Model:                               1                                         \n",
       "Covariance Type:                nonrobust                                         \n",
       "========================================================================================================\n",
       "                                           coef    std err          t      P>|t|      [0.025      0.975]\n",
       "--------------------------------------------------------------------------------------------------------\n",
       "Intercept                               17.4077      1.829      9.519      0.000      13.731      21.085\n",
       "Average_calories_burnt_in_last_month     0.0104      0.001     20.253      0.000       0.009       0.011\n",
       "==============================================================================\n",
       "Omnibus:                       13.303   Durbin-Watson:                   2.153\n",
       "Prob(Omnibus):                  0.001   Jarque-Bera (JB):               17.828\n",
       "Skew:                           0.884   Prob(JB):                     0.000135\n",
       "Kurtosis:                       5.330   Cond. No.                     9.24e+03\n",
       "==============================================================================\n",
       "\n",
       "Warnings:\n",
       "[1] Standard Errors assume that the covariance matrix of the errors is correctly specified.\n",
       "[2] The condition number is large, 9.24e+03. This might indicate that there are\n",
       "strong multicollinearity or other numerical problems.\n",
       "\"\"\""
      ]
     },
     "execution_count": 25,
     "metadata": {
      "tags": []
     },
     "output_type": "execute_result"
    }
   ],
   "source": [
    "# Model Building\n",
    "reg = smf.ols('Time_spent_on_exercise ~ Average_calories_burnt_in_last_month', data=train).fit()\n",
    "reg.summary()"
   ]
  },
  {
   "cell_type": "code",
   "execution_count": null,
   "metadata": {
    "colab": {
     "base_uri": "https://localhost:8080/",
     "height": 297
    },
    "id": "-VUdn5Rue_zT",
    "outputId": "4580f0a4-5619-4a62-f852-64710e276d22"
   },
   "outputs": [
    {
     "data": {
      "text/plain": [
       "17.8757"
      ]
     },
     "execution_count": 30,
     "metadata": {
      "tags": []
     },
     "output_type": "execute_result"
    },
    {
     "data": {
      "image/png": "[encoded data removed]",
      "text/plain": [
       "<Figure size 432x288 with 1 Axes>"
      ]
     },
     "metadata": {
      "needs_background": "light",
      "tags": []
     },
     "output_type": "display_data"
    }
   ],
   "source": [
    "# Assumption of Model\n",
    "## Linearity\n",
    "sns.scatterplot(x='Time_spent_on_exercise', y='Average_calories_burnt_in_last_month',data=train)\n",
    "train['fitted_value']=reg.fittedvalues\n",
    "train['residual']=reg.resid\n",
    "train.head()\n",
    "y=17.4077+0.0104*45\n",
    "y"
   ]
  },
  {
   "cell_type": "code",
   "execution_count": null,
   "metadata": {
    "colab": {
     "base_uri": "https://localhost:8080/",
     "height": 297
    },
    "id": "8WpxbbKng7l8",
    "outputId": "3aa0fe5b-b1af-402c-87e9-f19da5692306"
   },
   "outputs": [
    {
     "data": {
      "text/plain": [
       "<matplotlib.axes._subplots.AxesSubplot at 0x7f079641f110>"
      ]
     },
     "execution_count": 31,
     "metadata": {
      "tags": []
     },
     "output_type": "execute_result"
    },
    {
     "data": {
      "image/png": "[encoded data removed]",
      "text/plain": [
       "<Figure size 432x288 with 1 Axes>"
      ]
     },
     "metadata": {
      "needs_background": "light",
      "tags": []
     },
     "output_type": "display_data"
    }
   ],
   "source": [
    "## Homoscedasicity\n",
    "sns.scatterplot(x='fitted_value', y='residual',data=train)"
   ]
  },
  {
   "cell_type": "code",
   "execution_count": null,
   "metadata": {
    "colab": {
     "base_uri": "https://localhost:8080/",
     "height": 282
    },
    "id": "oOYYSwsBg_Jq",
    "outputId": "a1dc8418-b44b-4c7f-d3ca-103f8a158f8a"
   },
   "outputs": [
    {
     "data": {
      "image/png": "[encoded data removed]",
      "text/plain": [
       "<Figure size 432x288 with 1 Axes>"
      ]
     },
     "metadata": {
      "needs_background": "light",
      "tags": []
     },
     "output_type": "display_data"
    }
   ],
   "source": [
    "## Normality\n",
    "fig = sm.qqplot(train['residual'], fit=True, line='s') \n",
    "fig.show()"
   ]
  },
  {
   "cell_type": "code",
   "execution_count": null,
   "metadata": {
    "colab": {
     "base_uri": "https://localhost:8080/",
     "height": 337
    },
    "id": "3Kl1FazJhYE5",
    "outputId": "1d62983c-6cb3-49b4-94b0-e96640838ba9"
   },
   "outputs": [
    {
     "name": "stderr",
     "output_type": "stream",
     "text": [
      "/usr/local/lib/python3.7/dist-packages/seaborn/distributions.py:2557: FutureWarning: `distplot` is a deprecated function and will be removed in a future version. Please adapt your code to use either `displot` (a figure-level function with similar flexibility) or `histplot` (an axes-level function for histograms).\n",
      "  warnings.warn(msg, FutureWarning)\n"
     ]
    },
    {
     "data": {
      "image/png": "[encoded data removed]",
      "text/plain": [
       "<Figure size 432x288 with 1 Axes>"
      ]
     },
     "metadata": {
      "needs_background": "light",
      "tags": []
     },
     "output_type": "display_data"
    }
   ],
   "source": [
    "# Model errors\n",
    "ax = sns.distplot(train.residual)"
   ]
  },
  {
   "cell_type": "code",
   "execution_count": null,
   "metadata": {
    "colab": {
     "base_uri": "https://localhost:8080/",
     "height": 459
    },
    "id": "cE7iE-PHhkM7",
    "outputId": "6f2fa264-9e6f-4b2b-f7ed-2b23b51caa5b"
   },
   "outputs": [
    {
     "data": {
      "text/html": [
       "<table class=\"simpletable\">\n",
       "<caption>OLS Regression Results</caption>\n",
       "<tr>\n",
       "  <th>Dep. Variable:</th>    <td>Time_spent_on_exercise</td> <th>  R-squared:         </th> <td>   0.895</td>\n",
       "</tr>\n",
       "<tr>\n",
       "  <th>Model:</th>                      <td>OLS</td>          <th>  Adj. R-squared:    </th> <td>   0.893</td>\n",
       "</tr>\n",
       "<tr>\n",
       "  <th>Method:</th>                <td>Least Squares</td>     <th>  F-statistic:       </th> <td>   410.2</td>\n",
       "</tr>\n",
       "<tr>\n",
       "  <th>Date:</th>                <td>Mon, 10 May 2021</td>    <th>  Prob (F-statistic):</th> <td>3.69e-25</td>\n",
       "</tr>\n",
       "<tr>\n",
       "  <th>Time:</th>                    <td>13:45:20</td>        <th>  Log-Likelihood:    </th> <td> -150.11</td>\n",
       "</tr>\n",
       "<tr>\n",
       "  <th>No. Observations:</th>         <td>    50</td>         <th>  AIC:               </th> <td>   304.2</td>\n",
       "</tr>\n",
       "<tr>\n",
       "  <th>Df Residuals:</th>             <td>    48</td>         <th>  BIC:               </th> <td>   308.0</td>\n",
       "</tr>\n",
       "<tr>\n",
       "  <th>Df Model:</th>                 <td>     1</td>         <th>                     </th>     <td> </td>   \n",
       "</tr>\n",
       "<tr>\n",
       "  <th>Covariance Type:</th>         <td>nonrobust</td>       <th>                     </th>     <td> </td>   \n",
       "</tr>\n",
       "</table>\n",
       "<table class=\"simpletable\">\n",
       "<tr>\n",
       "                    <td></td>                      <th>coef</th>     <th>std err</th>      <th>t</th>      <th>P>|t|</th>  <th>[0.025</th>    <th>0.975]</th>  \n",
       "</tr>\n",
       "<tr>\n",
       "  <th>Intercept</th>                            <td>   17.4077</td> <td>    1.829</td> <td>    9.519</td> <td> 0.000</td> <td>   13.731</td> <td>   21.085</td>\n",
       "</tr>\n",
       "<tr>\n",
       "  <th>Average_calories_burnt_in_last_month</th> <td>    0.0104</td> <td>    0.001</td> <td>   20.253</td> <td> 0.000</td> <td>    0.009</td> <td>    0.011</td>\n",
       "</tr>\n",
       "</table>\n",
       "<table class=\"simpletable\">\n",
       "<tr>\n",
       "  <th>Omnibus:</th>       <td>13.303</td> <th>  Durbin-Watson:     </th> <td>   2.153</td>\n",
       "</tr>\n",
       "<tr>\n",
       "  <th>Prob(Omnibus):</th> <td> 0.001</td> <th>  Jarque-Bera (JB):  </th> <td>  17.828</td>\n",
       "</tr>\n",
       "<tr>\n",
       "  <th>Skew:</th>          <td> 0.884</td> <th>  Prob(JB):          </th> <td>0.000135</td>\n",
       "</tr>\n",
       "<tr>\n",
       "  <th>Kurtosis:</th>      <td> 5.330</td> <th>  Cond. No.          </th> <td>9.24e+03</td>\n",
       "</tr>\n",
       "</table><br/><br/>Warnings:<br/>[1] Standard Errors assume that the covariance matrix of the errors is correctly specified.<br/>[2] The condition number is large, 9.24e+03. This might indicate that there are<br/>strong multicollinearity or other numerical problems."
      ],
      "text/plain": [
       "<class 'statsmodels.iolib.summary.Summary'>\n",
       "\"\"\"\n",
       "                              OLS Regression Results                              \n",
       "==================================================================================\n",
       "Dep. Variable:     Time_spent_on_exercise   R-squared:                       0.895\n",
       "Model:                                OLS   Adj. R-squared:                  0.893\n",
       "Method:                     Least Squares   F-statistic:                     410.2\n",
       "Date:                    Mon, 10 May 2021   Prob (F-statistic):           3.69e-25\n",
       "Time:                            13:45:20   Log-Likelihood:                -150.11\n",
       "No. Observations:                      50   AIC:                             304.2\n",
       "Df Residuals:                          48   BIC:                             308.0\n",
       "Df Model:                               1                                         \n",
       "Covariance Type:                nonrobust                                         \n",
       "========================================================================================================\n",
       "                                           coef    std err          t      P>|t|      [0.025      0.975]\n",
       "--------------------------------------------------------------------------------------------------------\n",
       "Intercept                               17.4077      1.829      9.519      0.000      13.731      21.085\n",
       "Average_calories_burnt_in_last_month     0.0104      0.001     20.253      0.000       0.009       0.011\n",
       "==============================================================================\n",
       "Omnibus:                       13.303   Durbin-Watson:                   2.153\n",
       "Prob(Omnibus):                  0.001   Jarque-Bera (JB):               17.828\n",
       "Skew:                           0.884   Prob(JB):                     0.000135\n",
       "Kurtosis:                       5.330   Cond. No.                     9.24e+03\n",
       "==============================================================================\n",
       "\n",
       "Warnings:\n",
       "[1] Standard Errors assume that the covariance matrix of the errors is correctly specified.\n",
       "[2] The condition number is large, 9.24e+03. This might indicate that there are\n",
       "strong multicollinearity or other numerical problems.\n",
       "\"\"\""
      ]
     },
     "execution_count": 36,
     "metadata": {
      "tags": []
     },
     "output_type": "execute_result"
    }
   ],
   "source": [
    "# Prediction on data\n",
    "reg.summary()"
   ]
  },
  {
   "cell_type": "code",
   "execution_count": null,
   "metadata": {
    "colab": {
     "base_uri": "https://localhost:8080/",
     "height": 195
    },
    "id": "sncXIj5phosg",
    "outputId": "98eed617-cfaf-4bca-aa93-aefee8654b6f"
   },
   "outputs": [
    {
     "data": {
      "text/html": [
       "<div>\n",
       "<style scoped>\n",
       "    .dataframe tbody tr th:only-of-type {\n",
       "        vertical-align: middle;\n",
       "    }\n",
       "\n",
       "    .dataframe tbody tr th {\n",
       "        vertical-align: top;\n",
       "    }\n",
       "\n",
       "    .dataframe thead th {\n",
       "        text-align: right;\n",
       "    }\n",
       "</style>\n",
       "<table border=\"1\" class=\"dataframe\">\n",
       "  <thead>\n",
       "    <tr style=\"text-align: right;\">\n",
       "      <th></th>\n",
       "      <th>Time_spent_on_exercise</th>\n",
       "      <th>Average_calories_burnt_in_last_month</th>\n",
       "    </tr>\n",
       "  </thead>\n",
       "  <tbody>\n",
       "    <tr>\n",
       "      <th>114</th>\n",
       "      <td>30</td>\n",
       "      <td>1074</td>\n",
       "    </tr>\n",
       "    <tr>\n",
       "      <th>19</th>\n",
       "      <td>30</td>\n",
       "      <td>1618</td>\n",
       "    </tr>\n",
       "    <tr>\n",
       "      <th>57</th>\n",
       "      <td>45</td>\n",
       "      <td>2465</td>\n",
       "    </tr>\n",
       "    <tr>\n",
       "      <th>51</th>\n",
       "      <td>60</td>\n",
       "      <td>4376</td>\n",
       "    </tr>\n",
       "    <tr>\n",
       "      <th>53</th>\n",
       "      <td>60</td>\n",
       "      <td>4522</td>\n",
       "    </tr>\n",
       "  </tbody>\n",
       "</table>\n",
       "</div>"
      ],
      "text/plain": [
       "     Time_spent_on_exercise  Average_calories_burnt_in_last_month\n",
       "114                      30                                  1074\n",
       "19                       30                                  1618\n",
       "57                       45                                  2465\n",
       "51                       60                                  4376\n",
       "53                       60                                  4522"
      ]
     },
     "execution_count": 37,
     "metadata": {
      "tags": []
     },
     "output_type": "execute_result"
    }
   ],
   "source": [
    "test=pd.concat([X_test,y_test],axis=1)\n",
    "test.head()"
   ]
  },
  {
   "cell_type": "code",
   "execution_count": null,
   "metadata": {
    "colab": {
     "base_uri": "https://localhost:8080/"
    },
    "id": "XdDSS0ORhtUv",
    "outputId": "0880ad81-839c-453b-c458-ada6bc82b054"
   },
   "outputs": [
    {
     "data": {
      "text/plain": [
       "17.7197"
      ]
     },
     "execution_count": 38,
     "metadata": {
      "tags": []
     },
     "output_type": "execute_result"
    }
   ],
   "source": [
    "y=17.4077+0.0104*30\n",
    "y"
   ]
  },
  {
   "cell_type": "code",
   "execution_count": null,
   "metadata": {
    "colab": {
     "base_uri": "https://localhost:8080/",
     "height": 195
    },
    "id": "NNlE0fzRiArg",
    "outputId": "e40a9fc6-1f5b-4250-c965-84dff1e0712b"
   },
   "outputs": [
    {
     "data": {
      "text/html": [
       "<div>\n",
       "<style scoped>\n",
       "    .dataframe tbody tr th:only-of-type {\n",
       "        vertical-align: middle;\n",
       "    }\n",
       "\n",
       "    .dataframe tbody tr th {\n",
       "        vertical-align: top;\n",
       "    }\n",
       "\n",
       "    .dataframe thead th {\n",
       "        text-align: right;\n",
       "    }\n",
       "</style>\n",
       "<table border=\"1\" class=\"dataframe\">\n",
       "  <thead>\n",
       "    <tr style=\"text-align: right;\">\n",
       "      <th></th>\n",
       "      <th>Time_spent_on_exercise</th>\n",
       "      <th>Average_calories_burnt_in_last_month</th>\n",
       "      <th>Predicted</th>\n",
       "    </tr>\n",
       "  </thead>\n",
       "  <tbody>\n",
       "    <tr>\n",
       "      <th>114</th>\n",
       "      <td>30</td>\n",
       "      <td>1074</td>\n",
       "      <td>28.609813</td>\n",
       "    </tr>\n",
       "    <tr>\n",
       "      <th>19</th>\n",
       "      <td>30</td>\n",
       "      <td>1618</td>\n",
       "      <td>34.283879</td>\n",
       "    </tr>\n",
       "    <tr>\n",
       "      <th>57</th>\n",
       "      <td>45</td>\n",
       "      <td>2465</td>\n",
       "      <td>43.118315</td>\n",
       "    </tr>\n",
       "    <tr>\n",
       "      <th>51</th>\n",
       "      <td>60</td>\n",
       "      <td>4376</td>\n",
       "      <td>63.050556</td>\n",
       "    </tr>\n",
       "    <tr>\n",
       "      <th>53</th>\n",
       "      <td>60</td>\n",
       "      <td>4522</td>\n",
       "      <td>64.573375</td>\n",
       "    </tr>\n",
       "  </tbody>\n",
       "</table>\n",
       "</div>"
      ],
      "text/plain": [
       "     Time_spent_on_exercise  Average_calories_burnt_in_last_month  Predicted\n",
       "114                      30                                  1074  28.609813\n",
       "19                       30                                  1618  34.283879\n",
       "57                       45                                  2465  43.118315\n",
       "51                       60                                  4376  63.050556\n",
       "53                       60                                  4522  64.573375"
      ]
     },
     "execution_count": 39,
     "metadata": {
      "tags": []
     },
     "output_type": "execute_result"
    }
   ],
   "source": [
    "test['Predicted']=reg.predict(test)\n",
    "test.head()"
   ]
  },
  {
   "cell_type": "code",
   "execution_count": null,
   "metadata": {
    "colab": {
     "base_uri": "https://localhost:8080/"
    },
    "id": "k8ptFLzkiH0m",
    "outputId": "f9e80fd0-9324-4f95-fb54-64976646b158"
   },
   "outputs": [
    {
     "name": "stdout",
     "output_type": "stream",
     "text": [
      "RMSE 4.87\n"
     ]
    }
   ],
   "source": [
    "# MSE and RMSE on train data model\n",
    "model_mse = mean_squared_error(train['Time_spent_on_exercise'],train['fitted_value'])\n",
    "model_rmse = math.sqrt(model_mse)\n",
    "print(\"RMSE {:.3}\".format(model_rmse))"
   ]
  },
  {
   "cell_type": "code",
   "execution_count": null,
   "metadata": {
    "colab": {
     "base_uri": "https://localhost:8080/"
    },
    "id": "HsdlRJ4Sih8U",
    "outputId": "5221f849-84fa-4e06-e254-5563b7e47eac"
   },
   "outputs": [
    {
     "name": "stdout",
     "output_type": "stream",
     "text": [
      "RMSE 5.44\n"
     ]
    }
   ],
   "source": [
    "# MSE and RMSE on test data model\n",
    "model_mse = mean_squared_error(test['Time_spent_on_exercise'],test['Predicted'])\n",
    "model_rmse = math.sqrt(model_mse)\n",
    "print(\"RMSE {:.3}\".format(model_rmse))"
   ]
  }
 ],
 "metadata": {
  "colab": {
   "collapsed_sections": [
    "wu2P-4_PjXSO",
    "kY7OkgVwjbHQ",
    "R8XV3YVFjsVv",
    "PCuaPY64w39i",
    "dpBzs-Naw7nK",
    "-RQEAjtLka0B",
    "fIK2x0WOyroF",
    "gUF8nYowyu6h",
    "b2RYWxjy0vWd",
    "KZ_xCCOPmmit",
    "UHpyaBMbmr1E",
    "doQZyCJGnGYA"
   ],
   "name": "Exercise_survey.ipynb",
   "provenance": [],
   "toc_visible": true
  },
  "kernelspec": {
   "display_name": "Python 3",
   "language": "python",
   "name": "python3"
  },
  "language_info": {
   "codemirror_mode": {
    "name": "ipython",
    "version": 3
   },
   "file_extension": ".py",
   "mimetype": "text/x-python",
   "name": "python",
   "nbconvert_exporter": "python",
   "pygments_lexer": "ipython3",
   "version": "3.7.1"
  }
 },
 "nbformat": 4,
 "nbformat_minor": 1
}
